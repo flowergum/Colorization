{
  "nbformat": 4,
  "nbformat_minor": 0,
  "metadata": {
    "colab": {
      "name": "Color small",
      "provenance": [],
      "collapsed_sections": [
        "-XPAYfbu4VLs"
      ],
      "include_colab_link": true
    },
    "kernelspec": {
      "display_name": "Python 3",
      "name": "python3"
    },
    "accelerator": "GPU"
  },
  "cells": [
    {
      "cell_type": "markdown",
      "metadata": {
        "id": "view-in-github",
        "colab_type": "text"
      },
      "source": [
        "<a href=\"https://colab.research.google.com/github/flowergum/Colorization/blob/main/Color_small.ipynb\" target=\"_parent\"><img src=\"https://colab.research.google.com/assets/colab-badge.svg\" alt=\"Open In Colab\"/></a>"
      ]
    },
    {
      "cell_type": "markdown",
      "metadata": {
        "id": "2RWb_Qaa2jc9"
      },
      "source": [
        "# Восстановление цвета чёрно-белых изображений"
      ]
    },
    {
      "cell_type": "markdown",
      "metadata": {
        "id": "eoaypyoY2pEa"
      },
      "source": [
        "### Импорты и настройки"
      ]
    },
    {
      "cell_type": "code",
      "metadata": {
        "id": "60nUK_xGiCCJ"
      },
      "source": [
        "import os\n",
        "import shutil\n",
        "import tensorflow as tf\n",
        "import tensorboard as tb\n",
        "import torch\n",
        "import math\n",
        "import numpy as np\n",
        "from torch import nn\n",
        "from torch.utils.data import DataLoader\n",
        "from torch.nn import RNN, LSTM\n",
        "import torchvision\n",
        "from torchvision.datasets import MNIST, CIFAR10\n",
        "from torchvision import transforms\n",
        "import matplotlib.pyplot as plt\n",
        "from tqdm.notebook import tqdm\n",
        "from torch.nn import init\n",
        "from torchsummary import summary\n",
        "from torch.utils.tensorboard import SummaryWriter\n",
        "import matplotlib.pyplot as plt"
      ],
      "execution_count": 8,
      "outputs": []
    },
    {
      "cell_type": "code",
      "metadata": {
        "id": "HF9pPCQMUYzC"
      },
      "source": [
        "from tensorflow.keras.models import Sequential, Model\n",
        "from tensorflow.keras.layers import Conv2D, \\\n",
        "                                    Dense, \\\n",
        "                                    MaxPool2D,\\\n",
        "                                    Dropout, \\\n",
        "                                    Flatten, \\\n",
        "                                    BatchNormalization, InputLayer, UpSampling2D\n",
        "from tensorflow.keras.preprocessing.image import ImageDataGenerator, load_img, img_to_array, array_to_img\n",
        "from skimage.color import rgb2lab, lab2rgb\n",
        "from skimage.io import imsave\n",
        "from google.colab import files\n",
        "from io import BytesIO\n",
        "from PIL import Image\n",
        "import matplotlib.pyplot as plt\n",
        "import glob\n",
        "\n",
        "import zipfile\n",
        "import os\n",
        "from PIL import Image\n",
        "import matplotlib.pyplot as plt\n",
        "\n",
        "import cv2"
      ],
      "execution_count": 9,
      "outputs": []
    },
    {
      "cell_type": "code",
      "metadata": {
        "colab": {
          "base_uri": "https://localhost:8080/"
        },
        "id": "f56DAfC-dX0J",
        "outputId": "77bc921a-8160-4371-81db-4435c5af1ec4"
      },
      "source": [
        "from google.colab import drive\n",
        "drive.mount('/content/drive')"
      ],
      "execution_count": null,
      "outputs": [
        {
          "output_type": "stream",
          "text": [
            "Mounted at /content/drive\n"
          ],
          "name": "stdout"
        }
      ]
    },
    {
      "cell_type": "code",
      "metadata": {
        "id": "hh6QDUZd2THs",
        "colab": {
          "base_uri": "https://localhost:8080/"
        },
        "outputId": "98fe3f38-b9de-4173-d244-389b981ab3cf"
      },
      "source": [
        "gpus = tf.config.experimental.list_physical_devices('GPU')\n",
        "if gpus:\n",
        "  try:\n",
        "    # Currently, memory growth needs to be the same across GPUs\n",
        "    for gpu in gpus:\n",
        "      tf.config.experimental.set_memory_growth(gpu, True)\n",
        "    logical_gpus = tf.config.experimental.list_logical_devices('GPU')\n",
        "    print(len(gpus), \"Physical GPUs,\", len(logical_gpus), \"Logical GPUs\")\n",
        "  except RuntimeError as e:\n",
        "    # Memory growth must be set before GPUs have been initialized\n",
        "    print(e)"
      ],
      "execution_count": null,
      "outputs": [
        {
          "output_type": "stream",
          "text": [
            "1 Physical GPUs, 1 Logical GPUs\n"
          ],
          "name": "stdout"
        }
      ]
    },
    {
      "cell_type": "code",
      "metadata": {
        "id": "x-uYKVOHddh8",
        "colab": {
          "base_uri": "https://localhost:8080/"
        },
        "outputId": "08c20bc6-8108-4995-c139-d66834dd6c6c"
      },
      "source": [
        "!nvidia-smi"
      ],
      "execution_count": null,
      "outputs": [
        {
          "output_type": "stream",
          "text": [
            "NVIDIA-SMI has failed because it couldn't communicate with the NVIDIA driver. Make sure that the latest NVIDIA driver is installed and running.\n",
            "\n"
          ],
          "name": "stdout"
        }
      ]
    },
    {
      "cell_type": "markdown",
      "metadata": {
        "id": "XUu0yTHI25dU"
      },
      "source": [
        "### Загрузка датасета"
      ]
    },
    {
      "cell_type": "code",
      "metadata": {
        "id": "d82GYxY_1RSJ"
      },
      "source": [
        "#from google.colab import drive\n",
        "#drive.mount('/content/drive')"
      ],
      "execution_count": null,
      "outputs": []
    },
    {
      "cell_type": "code",
      "metadata": {
        "id": "qCYtFQB5yOan"
      },
      "source": [
        "#скачиваем и распаковываем .zip файл с изображениями для train, делать 1 раз\n",
        "z = zipfile.ZipFile('/content/drive/MyDrive/Colorization/zip/Faces.zip', 'r')\n",
        "img = z.extractall()"
      ],
      "execution_count": null,
      "outputs": []
    },
    {
      "cell_type": "code",
      "metadata": {
        "id": "CEK5P9_3Fjk7"
      },
      "source": [
        "#скачиваем и распаковываем .zip файл с изображениями для test, делать 1 раз\n",
        "#z = zipfile.ZipFile('/content/drive/MyDrive/Colorization/zip/test_faces.zip', 'r')\n",
        "#img = z.extractall()"
      ],
      "execution_count": null,
      "outputs": []
    },
    {
      "cell_type": "code",
      "metadata": {
        "id": "R_dRnuOJ76Br"
      },
      "source": [
        "mean_a = -1.1600414744678562\n",
        "std_a = 8.186355078077268\n",
        "mean_b = 0.13165360980751917\n",
        "std_b = 16.993361951392266"
      ],
      "execution_count": 10,
      "outputs": []
    },
    {
      "cell_type": "markdown",
      "metadata": {
        "id": "K-M7RZby2uOy"
      },
      "source": [
        "### Создание генератора датасета"
      ]
    },
    {
      "cell_type": "code",
      "metadata": {
        "id": "rmNreHzNAWfr"
      },
      "source": [
        "def batch_gen(path):\n",
        "    fileList = os.listdir(path)\n",
        "    for filepath in fileList:\n",
        "        img = cv2.imread(path + \"/\" + filepath)\n",
        "        img = cv2.cvtColor(img, cv2.COLOR_BGR2RGB)\n",
        "        # processed image\n",
        "        image = Image.fromarray(np.uint8(img)).resize((128, 128))\n",
        "        image = np.array(image, dtype=float)\n",
        "        lab = rgb2lab(1.0/255*image)\n",
        "        X, Y = lab[:,:,0], lab[:,:,1:]\n",
        "        Y[:,:,0] = (Y[:,:,0] - mean_a) / std_a\n",
        "        Y[:,:,1] = (Y[:,:,1] - mean_b) / std_b\n",
        "        X = X.reshape(image.shape[0], image.shape[1], 1)\n",
        "        Y = Y.reshape(image.shape[0], image.shape[1], 2)\n",
        "        yield X, Y                                    #yield -- приостанавливает выполнение, не прерывает. Подробнее в тексте\n",
        "\n",
        "def dataset_gen(path, epochs, batch_size):\n",
        "    dataset = tf.data.Dataset.from_generator(lambda: batch_gen(path),\n",
        "                                             output_types=(tf.float64, tf.float64))  #тут формируем датасет\n",
        "    #print(dataset.shape)\n",
        "    dataset = dataset.repeat(epochs)          #повторяем датасет нужное число раз; н-р, epochs = 2: [1, 2, 3] --> [1, 2, 3, 1, 2, 3]\n",
        "    dataset = dataset.batch(batch_size)       #формирует пакеты по batch_size штук в каждом\n",
        "    return dataset\n",
        "\n",
        "def train_gen(path):\n",
        "    dataset = tf.data.Dataset.from_generator(lambda: batch_gen(path),\n",
        "                                             output_types=(tf.float64, tf.float64))  #тут формируем датасет\n",
        "    return dataset"
      ],
      "execution_count": null,
      "outputs": []
    },
    {
      "cell_type": "markdown",
      "metadata": {
        "id": "SHqcQBw3HZmW"
      },
      "source": [
        "### Создание тестовой выборки"
      ]
    },
    {
      "cell_type": "code",
      "metadata": {
        "id": "AEy9rmCaHbOd"
      },
      "source": [
        "def processed_image(img):    \n",
        "  img = np.array(img, dtype=float)\n",
        "  image = Image.fromarray(np.uint8(img)).resize((128, 128))\n",
        "  image = np.array(image, dtype=float)   \n",
        "  size = image.shape\n",
        "  lab = rgb2lab(1.0/255*image)                \n",
        "  X, Y = lab[:,:,0], lab[:,:,1:]    \n",
        "            \n",
        "  Y[:,:,0] = (Y[:,:,0] - mean_a) / std_a\n",
        "  Y[:,:,1] = (Y[:,:,1] - mean_b) / std_b  \n",
        "\n",
        "\n",
        "  X = X.reshape(size[0], size[1], 1)\n",
        "  Y = Y.reshape(size[0], size[1], 2)\n",
        "  del size\n",
        "  return X, Y"
      ],
      "execution_count": null,
      "outputs": []
    },
    {
      "cell_type": "code",
      "metadata": {
        "id": "iJryEuXdHnJ3"
      },
      "source": [
        "import cv2\n",
        "list_x = []\n",
        "list_y = []\n",
        "j = 0\n",
        "#путь к папке с распакованными изображениями\n",
        "path = '/content/val_images'\n",
        "fileList = os.listdir(path)\n",
        "for i in fileList:\n",
        "   file_ = cv2.imread(('/content/val_images/' + i))\n",
        "   file_ = cv2.cvtColor(file_, cv2.COLOR_BGR2RGB)\n",
        "   X, Y = processed_image(file_)\n",
        "   #print(X.shape)\n",
        "   if X.shape == (128, 128, 1) and Y.shape == (128, 128, 2):\n",
        "      list_x.append(X)\n",
        "      list_y.append(Y)\n",
        "   else:\n",
        "      print('xexe')\n",
        "   j += 1\n",
        "   if j > 7000:\n",
        "      break"
      ],
      "execution_count": null,
      "outputs": []
    },
    {
      "cell_type": "code",
      "metadata": {
        "id": "DW0M1rvrH52_",
        "colab": {
          "base_uri": "https://localhost:8080/"
        },
        "outputId": "a1baef16-a93d-43b1-da9b-4adc82162b13"
      },
      "source": [
        "list_x = np.array(list_x)\n",
        "list_y = np.array(list_y)\n",
        "print(list_x.shape, list_y.shape)"
      ],
      "execution_count": null,
      "outputs": [
        {
          "output_type": "stream",
          "text": [
            "(7001, 128, 128, 1) (7001, 128, 128, 2)\n"
          ],
          "name": "stdout"
        }
      ]
    },
    {
      "cell_type": "markdown",
      "metadata": {
        "id": "Ta8PPIJb4JM7"
      },
      "source": [
        "### Создание модели"
      ]
    },
    {
      "cell_type": "code",
      "metadata": {
        "id": "7K1U73jGz5_-",
        "colab": {
          "base_uri": "https://localhost:8080/"
        },
        "outputId": "42fde754-f024-47df-e97d-c64623f0827c"
      },
      "source": [
        "model = Sequential()                                                      # Последовательная\n",
        "model.add(InputLayer(input_shape=(None, None, 1)))                        # Входной слой, подаем на вход яркостную компоненту\n",
        "model.add(Conv2D(64, (3, 3), activation='relu', padding='same'))          # Свертка, 64 фильтра\n",
        "model.add(MaxPool2D(pool_size=(2, 2)))\n",
        "model.add(Conv2D(128, (3, 3), activation='relu', padding='same'))\n",
        "model.add(MaxPool2D(pool_size=(2, 2)))\n",
        "model.add(Conv2D(256, (3, 3), activation='relu', padding='same'))\n",
        "model.add(MaxPool2D(pool_size=(2, 2)))\n",
        "model.add(Conv2D(512, (3, 3), activation='relu', padding='same'))\n",
        "#model.add(UpSampling2D((2, 2))) #Растягивает картинку\n",
        "model.add(Conv2D(256, (3, 3), activation='relu', padding='same'))\n",
        "#model.add(UpSampling2D((2, 2)))\n",
        "model.add(Conv2D(128, (3, 3), activation='relu', padding='same'))\n",
        "model.add(UpSampling2D((2, 2)))\n",
        "model.add(Conv2D(64, (3, 3), activation='relu', padding='same'))\n",
        "model.add(UpSampling2D((2, 2)))\n",
        "model.add(Conv2D(32, (3, 3), activation='relu', padding='same'))\n",
        "#model.add(BatchNormalization())\n",
        "model.add(Conv2D(2, (3, 3), activation='tanh', padding='same'))\n",
        "model.add(UpSampling2D((2, 2)))\n",
        "\n",
        "model.compile(optimizer='adam', loss='mse')\n",
        "model.summary()"
      ],
      "execution_count": 11,
      "outputs": [
        {
          "output_type": "stream",
          "text": [
            "Model: \"sequential_1\"\n",
            "_________________________________________________________________\n",
            "Layer (type)                 Output Shape              Param #   \n",
            "=================================================================\n",
            "conv2d_9 (Conv2D)            (None, None, None, 64)    640       \n",
            "_________________________________________________________________\n",
            "max_pooling2d_3 (MaxPooling2 (None, None, None, 64)    0         \n",
            "_________________________________________________________________\n",
            "conv2d_10 (Conv2D)           (None, None, None, 128)   73856     \n",
            "_________________________________________________________________\n",
            "max_pooling2d_4 (MaxPooling2 (None, None, None, 128)   0         \n",
            "_________________________________________________________________\n",
            "conv2d_11 (Conv2D)           (None, None, None, 256)   295168    \n",
            "_________________________________________________________________\n",
            "max_pooling2d_5 (MaxPooling2 (None, None, None, 256)   0         \n",
            "_________________________________________________________________\n",
            "conv2d_12 (Conv2D)           (None, None, None, 512)   1180160   \n",
            "_________________________________________________________________\n",
            "conv2d_13 (Conv2D)           (None, None, None, 256)   1179904   \n",
            "_________________________________________________________________\n",
            "conv2d_14 (Conv2D)           (None, None, None, 128)   295040    \n",
            "_________________________________________________________________\n",
            "up_sampling2d_3 (UpSampling2 (None, None, None, 128)   0         \n",
            "_________________________________________________________________\n",
            "conv2d_15 (Conv2D)           (None, None, None, 64)    73792     \n",
            "_________________________________________________________________\n",
            "up_sampling2d_4 (UpSampling2 (None, None, None, 64)    0         \n",
            "_________________________________________________________________\n",
            "conv2d_16 (Conv2D)           (None, None, None, 32)    18464     \n",
            "_________________________________________________________________\n",
            "conv2d_17 (Conv2D)           (None, None, None, 2)     578       \n",
            "_________________________________________________________________\n",
            "up_sampling2d_5 (UpSampling2 (None, None, None, 2)     0         \n",
            "=================================================================\n",
            "Total params: 3,117,602\n",
            "Trainable params: 3,117,602\n",
            "Non-trainable params: 0\n",
            "_________________________________________________________________\n"
          ],
          "name": "stdout"
        }
      ]
    },
    {
      "cell_type": "markdown",
      "metadata": {
        "id": "-XPAYfbu4VLs"
      },
      "source": [
        "#### Модель 2, для сравнения"
      ]
    },
    {
      "cell_type": "code",
      "metadata": {
        "id": "UPRjNZ4WHBny"
      },
      "source": [
        " model2 = Sequential()     #из статьи сравниваю\n",
        " model2.add(InputLayer(input_shape=(None, None, 1)))\n",
        " model2.add(Conv2D(64, (3, 3), activation='relu', padding='same'))\n",
        " model2.add(Conv2D(64, (3, 3), activation='relu', padding='same', strides=2))\n",
        " model2.add(Conv2D(128, (3, 3), activation='relu', padding='same'))\n",
        " model2.add(Conv2D(128, (3, 3), activation='relu', padding='same', strides=2))\n",
        " model2.add(Conv2D(256, (3, 3), activation='relu', padding='same'))\n",
        " model2.add(Conv2D(256, (3, 3), activation='relu', padding='same', strides=2))\n",
        " model2.add(Conv2D(512, (3, 3), activation='relu', padding='same'))\n",
        " model2.add(Conv2D(256, (3, 3), activation='relu', padding='same'))\n",
        " model2.add(Conv2D(128, (3, 3), activation='relu', padding='same'))\n",
        " model2.add(UpSampling2D((2, 2)))\n",
        " model2.add(Conv2D(64, (3, 3), activation='relu', padding='same'))\n",
        " model2.add(UpSampling2D((2, 2)))\n",
        " model2.add(Conv2D(32, (3, 3), activation='relu', padding='same'))\n",
        " model2.add(Conv2D(2, (3, 3), activation='tanh', padding='same'))\n",
        " model2.add(UpSampling2D((2, 2)))\n",
        "\n",
        " #model2.compile(optimizer='adam', loss='mse')"
      ],
      "execution_count": null,
      "outputs": []
    },
    {
      "cell_type": "code",
      "metadata": {
        "id": "WrWa-RUEIXN1"
      },
      "source": [
        "# history2 = model2.fit(x=x_train, y=y_train, batch_size=100, epochs=35) #всего 55 эпох (55 -- оптимально: размер изображения: 128*128, 2500 картинок на 5 классов)"
      ],
      "execution_count": null,
      "outputs": []
    },
    {
      "cell_type": "markdown",
      "metadata": {
        "id": "ayRh35Pn4cES"
      },
      "source": [
        "### Обучение сети"
      ]
    },
    {
      "cell_type": "code",
      "metadata": {
        "id": "z_gakBmac8bM"
      },
      "source": [
        "model.load_weights(\"drive/MyDrive/Colorization/weights/Landscapes_20_epochs.h5\")\n",
        "\n",
        "# Сами разбейте новый объект датасета на тренировочную и тестовую выборку\n",
        "# history = model.fit(x=x_train1, y=y_train1, batch_size=500, epochs=6, validation_data=(x_test1, y_test1))"
      ],
      "execution_count": 17,
      "outputs": []
    },
    {
      "cell_type": "code",
      "metadata": {
        "id": "ZylZs3QU-l9O",
        "colab": {
          "base_uri": "https://localhost:8080/"
        },
        "outputId": "fd554ee2-494c-45dc-a7d4-b7ac80c083d8"
      },
      "source": [
        "train_path = '/content/train_images'\n",
        "test_path = '/content/val_images'\n",
        "\n",
        "epochs = 5\n",
        "batch_size = 256\n",
        "total_items = len(os.listdir(train_path))\n",
        "num_batches = int(total_items/batch_size)\n",
        "print(f\"batch_size={batch_size}\\nnum_batches = {num_batches}\\ntotal_samples={num_batches*batch_size}\\n{'-'*30}\")\n",
        "\n",
        "\n",
        "dataset = dataset_gen(train_path, epochs, batch_size)\n",
        "\n",
        "#history = model.fit(x=x_train, y=y_train, batch_size=256, epochs=30, validation_data=(list_x, list_y))\n",
        "history = model.fit(dataset, steps_per_epoch=num_batches, epochs=epochs, validation_data=(list_x, list_y), verbose=1)"
      ],
      "execution_count": null,
      "outputs": [
        {
          "output_type": "stream",
          "text": [
            "batch_size=256\n",
            "num_batches = 118\n",
            "total_samples=30208\n",
            "------------------------------\n",
            "Epoch 1/5\n",
            "118/118 [==============================] - 305s 3s/step - loss: 1.6779 - val_loss: 0.9708\n",
            "Epoch 2/5\n",
            "118/118 [==============================] - 305s 3s/step - loss: 0.9401 - val_loss: 0.9525\n",
            "Epoch 3/5\n",
            "118/118 [==============================] - 304s 3s/step - loss: 0.9183 - val_loss: 0.9327\n",
            "Epoch 4/5\n",
            "118/118 [==============================] - 305s 3s/step - loss: 0.9099 - val_loss: 0.9129\n",
            "Epoch 5/5\n",
            "118/118 [==============================] - 308s 3s/step - loss: 0.8962 - val_loss: 0.9034\n"
          ],
          "name": "stdout"
        }
      ]
    },
    {
      "cell_type": "code",
      "metadata": {
        "id": "wsatSwcbWcOC"
      },
      "source": [
        "model.save_weights(\"drive/MyDrive/Colorization/weights/Faces_5_epochs.h5\")"
      ],
      "execution_count": null,
      "outputs": []
    },
    {
      "cell_type": "markdown",
      "metadata": {
        "id": "oBD2KH_hHcst"
      },
      "source": [
        "#### Вариант обратного преобразования (не допилен)"
      ]
    },
    {
      "cell_type": "code",
      "metadata": {
        "id": "fQ0VlNczFc17"
      },
      "source": [
        "def one_img_to_model(img):\n",
        "    img = np.array(img, dtype=float)\n",
        "    lab = rgb2lab(1.0/255*img)\n",
        "    X, Y = lab[:,:,0], lab[:,:,1:]/128\n",
        "    X = X.reshape(img.shape[0], img.shape[1], 1)\n",
        "    X = np.reshape(X, (1, 128, 128, 1))\n",
        "    return X"
      ],
      "execution_count": null,
      "outputs": []
    },
    {
      "cell_type": "code",
      "metadata": {
        "id": "Qt8qP1DqVRbg"
      },
      "source": [
        "def collect2rgb(l, ab):\n",
        "    ab *= 128\n",
        "    lab = np.concatenate((l, ab), axis = 2)\n",
        "    rgb = lab2rgb(lab)\n",
        "    return rgb"
      ],
      "execution_count": null,
      "outputs": []
    },
    {
      "cell_type": "code",
      "metadata": {
        "colab": {
          "base_uri": "https://localhost:8080/"
        },
        "id": "zHDgqiD8bYNX",
        "outputId": "dc6b1dbe-2f9d-4b02-8eb4-791351a3dfdf"
      },
      "source": [
        "i = 1234\n",
        "\n",
        "a = np.reshape((list_x[i]), (1, 128, 128, 1))\n",
        "y_predict = model.predict(a)\n",
        "print(list_x[i].shape, list_y[i].shape)\n",
        "real = collect2rgb(list_x[i], list_y[i])\n",
        "\n",
        "y = np.reshape((y_predict), (128, 128, 2))\n",
        "predict = collect2rgb(list_x[i], y)\n",
        "#print(real)\n",
        "plt.subplot(1, 2, 1)\n",
        "plt.imshow(real)\n",
        "plt.subplot(1, 2, 2)\n",
        "plt.imshow(predict)"
      ],
      "execution_count": null,
      "outputs": [
        {
          "output_type": "stream",
          "text": [
            "(128, 128, 1) (128, 128, 2)\n"
          ],
          "name": "stdout"
        },
        {
          "output_type": "stream",
          "text": [
            "/usr/local/lib/python3.7/dist-packages/skimage/color/colorconv.py:1068: UserWarning: Color data out of range: Z < 0 in 2 pixels\n",
            "  return xyz2rgb(lab2xyz(lab, illuminant, observer))\n"
          ],
          "name": "stderr"
        },
        {
          "output_type": "execute_result",
          "data": {
            "text/plain": [
              "<matplotlib.image.AxesImage at 0x7ff4299b20d0>"
            ]
          },
          "metadata": {
            "tags": []
          },
          "execution_count": 221
        },
        {
          "output_type": "display_data",
          "data": {
            "image/png": "[encoded data removed]",
            "text/plain": [
              "<Figure size 432x288 with 2 Axes>"
            ]
          },
          "metadata": {
            "tags": [],
            "needs_background": "light"
          }
        }
      ]
    },
    {
      "cell_type": "markdown",
      "metadata": {
        "id": "nLlxNwSd0Nli"
      },
      "source": [
        "#### Без преобразований функциями\n"
      ]
    },
    {
      "cell_type": "code",
      "metadata": {
        "colab": {
          "base_uri": "https://localhost:8080/",
          "height": 200
        },
        "id": "rf_pW266aouk",
        "outputId": "56e0296d-6032-4996-a9d9-f530402ddddb"
      },
      "source": [
        "i = 'LG3'\n",
        "img = Image.open('/content/drive/MyDrive/Colorization/Done/' + str(i) + '.jpg')\n",
        "image = img.resize((1200, 784))\n",
        "imag = np.array(image)\n",
        "size = imag.shape \n",
        "print(size)\n",
        "\n",
        "if len(size) == 3:\n",
        "    lab = rgb2lab(1.0/255*imag)                \n",
        "    A, Y = lab[:,:,0], lab[:,:,1:]\n",
        "    X = np.reshape((A), (1, size[0], size[1], 1))\n",
        "    print(X.shape)\n",
        "\n",
        "    output = model.predict(X)\n",
        "    print(output.shape)\n",
        "    output[:,:,:,0] = output[:,:,:,0] * std_a + mean_a\n",
        "    output[:,:,:,1] = output[:,:,:,1] * std_b + mean_b\n",
        "\n",
        "    min_vals, max_vals = -128, 127\n",
        "    ab = np.clip(output[0], min_vals, max_vals)\n",
        "    cur = np.zeros((size[0], size[1], 3))\n",
        "    cur[:,:,0] = np.clip(X[0][:,:,0], 0, 100)\n",
        "    cur[:,:,1:] = ab\n",
        "    rgb = lab2rgb(cur)\n",
        "    plt.subplot(1, 2, 1)\n",
        "    plt.imshow(img)\n",
        "    plt.subplot(1, 2, 2)\n",
        "    plt.imshow(rgb)\n",
        "\n",
        "\n",
        "elif len(size) == 2:\n",
        "    X = np.reshape((imag), (1, size[0], size[1], 1))\n",
        "    X = X * 100.0 / 255.0\n",
        "    print(X.shape)\n",
        "\n",
        "    output = model.predict(X)\n",
        "    print(output.shape)\n",
        "    output[:,:,:,0] = output[:,:,:,0] * std_a + mean_a\n",
        "    output[:,:,:,1] = output[:,:,:,1] * std_b + mean_b\n",
        "\n",
        "    min_vals, max_vals = -128, 127\n",
        "    ab = np.clip(output[0], min_vals, max_vals)\n",
        "    cur = np.zeros((size[0], size[1], 3))\n",
        "    cur[:,:,0] = np.clip(X[0][:,:,0], 0, 100)\n",
        "    cur[:,:,1:] = ab\n",
        "    rgb = lab2rgb(cur)\n",
        "    plt.subplot(1, 2, 1)\n",
        "    plt.imshow(imag, cmap='gray')\n",
        "    plt.subplot(1, 2, 2)\n",
        "    plt.imshow(rgb)"
      ],
      "execution_count": 39,
      "outputs": [
        {
          "output_type": "stream",
          "text": [
            "(784, 1200)\n",
            "(1, 784, 1200, 1)\n",
            "(1, 784, 1200, 2)\n"
          ],
          "name": "stdout"
        },
        {
          "output_type": "display_data",
          "data": {
            "image/png": "[encoded data removed]",
            "text/plain": [
              "<Figure size 432x288 with 2 Axes>"
            ]
          },
          "metadata": {
            "tags": [],
            "needs_background": "light"
          }
        }
      ]
    },
    {
      "cell_type": "code",
      "metadata": {
        "colab": {
          "base_uri": "https://localhost:8080/"
        },
        "id": "G3ig7wNk5fRH",
        "outputId": "20d64c46-ce92-4970-b17b-cef37666dbc9"
      },
      "source": [
        "print(rgb.shape)\n",
        "result = Image.fromarray((rgb * 255).astype(np.uint8))\n",
        "result.save('/content/drive/MyDrive/Colorization/Done/L3.jpg')"
      ],
      "execution_count": 40,
      "outputs": [
        {
          "output_type": "stream",
          "text": [
            "(784, 1200, 3)\n"
          ],
          "name": "stdout"
        }
      ]
    },
    {
      "cell_type": "markdown",
      "metadata": {
        "id": "_B1M8myZB5ac"
      },
      "source": [
        "# График"
      ]
    },
    {
      "cell_type": "code",
      "metadata": {
        "id": "QGGgDN4MB3Il",
        "colab": {
          "base_uri": "https://localhost:8080/",
          "height": 606
        },
        "outputId": "56eaae9e-21b7-4f9f-c397-4487a48df76b"
      },
      "source": [
        "plt.figure(figsize=(16,10))\n",
        "plt.xlabel('Epochs')\n",
        "plt.ylabel(\"mse\")\n",
        "val = plt.plot(history.epoch, history.history['val_'+'loss'],\n",
        "                   '--', label='Val')\n",
        "plt.plot(history.epoch, history.history[\"loss\"], color=val[0].get_color(),\n",
        "             label='Train')\n",
        "plt.legend()\n",
        "plt.xlim([0, max(history.epoch)])\n",
        "#plt.ylim([0,0.02])\n",
        "plt.savefig('/content/drive/MyDrive/Colorization/graphs/Faces_5_epochs.png')"
      ],
      "execution_count": null,
      "outputs": [
        {
          "output_type": "display_data",
          "data": {
            "image/png": "[encoded data removed]",
            "text/plain": [
              "<Figure size 1152x720 with 1 Axes>"
            ]
          },
          "metadata": {
            "tags": [],
            "needs_background": "light"
          }
        }
      ]
    },
    {
      "cell_type": "markdown",
      "metadata": {
        "id": "slKTB645IWRg"
      },
      "source": [
        "# Эксперименты"
      ]
    },
    {
      "cell_type": "code",
      "metadata": {
        "id": "SmeL6PsUAr6C",
        "colab": {
          "base_uri": "https://localhost:8080/"
        },
        "outputId": "3b2883c2-abb0-4c2e-ca46-5bfc1e741ae0"
      },
      "source": [
        "import zipfile\n",
        "import os\n",
        "from PIL import Image\n",
        "import numpy as np \n",
        "import matplotlib.pyplot as plt\n",
        "import cv2\n",
        "\n",
        "#скачиваем и распаковываем .zip файл с изображениями, делать 1 раз\n",
        "#z = zipfile.ZipFile('/content/drive/MyDrive/Colorization/zip/traain.zip', 'r')\n",
        "#img = z.extractall()\n",
        "\n",
        "x_set = []\n",
        "\n",
        "#путь к папке с распакованными изображениями\n",
        "path = '/content/traain'\n",
        "fileList = os.listdir(path)\n",
        "j = 0\n",
        "for i in fileList:\n",
        "   file_ = cv2.imread(('/content/traain/' + i))\n",
        "   file_ = cv2.cvtColor(file_, cv2.COLOR_BGR2RGB)\n",
        "   file_ = np.array(file_, dtype=float)\n",
        "   image = Image.fromarray(np.uint8(file_)).resize((128, 128))\n",
        "   image = np.array(image, dtype=float)\n",
        "   if image.shape!=(128,128,3):\n",
        "      print('ЧБ')\n",
        "   else:\n",
        "      lab = rgb2lab(1.2/255*image)\n",
        "      x_set.append(lab)\n",
        "      j=j+1\n",
        "   if j%100 == 0 or j == 50018 or j == 50019:\n",
        "      print(j)"
      ],
      "execution_count": null,
      "outputs": [
        {
          "output_type": "stream",
          "text": [
            "100\n",
            "200\n",
            "300\n",
            "400\n",
            "500\n",
            "600\n",
            "700\n",
            "800\n",
            "900\n",
            "1000\n",
            "1100\n",
            "1200\n",
            "1300\n",
            "1400\n",
            "1500\n",
            "1600\n",
            "1700\n",
            "1800\n",
            "1900\n",
            "2000\n",
            "2100\n",
            "2200\n",
            "2300\n",
            "2400\n",
            "2500\n",
            "2600\n",
            "2700\n",
            "2800\n",
            "2900\n",
            "3000\n",
            "3100\n",
            "3200\n",
            "3300\n",
            "3400\n",
            "3500\n",
            "3600\n",
            "3700\n",
            "3800\n",
            "3900\n",
            "4000\n",
            "4100\n",
            "4200\n",
            "4300\n",
            "4400\n",
            "4500\n",
            "4600\n",
            "4700\n",
            "4800\n",
            "4900\n",
            "5000\n",
            "5100\n",
            "5200\n",
            "5300\n",
            "5400\n",
            "5500\n",
            "5600\n",
            "5700\n",
            "5800\n",
            "5900\n",
            "6000\n",
            "6100\n",
            "6200\n",
            "6300\n",
            "6400\n",
            "6500\n",
            "6600\n",
            "6700\n",
            "6800\n",
            "6900\n",
            "7000\n",
            "7100\n",
            "7200\n",
            "7300\n",
            "7400\n",
            "7500\n",
            "7600\n",
            "7700\n",
            "7800\n",
            "7900\n",
            "8000\n",
            "8100\n",
            "8200\n",
            "8300\n",
            "8400\n",
            "8500\n",
            "8600\n",
            "8700\n",
            "8800\n",
            "8900\n",
            "9000\n",
            "9100\n",
            "9200\n",
            "9300\n",
            "9400\n",
            "9500\n",
            "9600\n",
            "9700\n",
            "9800\n",
            "9900\n",
            "10000\n",
            "10100\n",
            "10200\n",
            "10300\n",
            "10400\n",
            "10500\n",
            "10600\n",
            "10700\n",
            "10800\n",
            "10900\n",
            "11000\n",
            "11100\n",
            "11200\n",
            "11300\n",
            "11400\n",
            "11500\n",
            "11600\n",
            "11700\n",
            "11800\n",
            "11900\n",
            "12000\n",
            "12100\n",
            "12200\n",
            "12300\n",
            "12400\n",
            "12500\n",
            "12600\n",
            "12700\n",
            "12800\n",
            "12900\n",
            "13000\n",
            "13100\n",
            "13200\n",
            "13300\n",
            "13400\n",
            "13500\n",
            "13600\n",
            "13700\n",
            "13800\n",
            "13900\n",
            "14000\n",
            "14100\n",
            "14200\n",
            "14300\n",
            "14400\n",
            "14500\n",
            "14600\n",
            "14700\n",
            "14800\n",
            "14900\n",
            "15000\n",
            "15100\n",
            "15200\n",
            "15300\n",
            "15400\n",
            "15500\n",
            "15600\n",
            "15700\n",
            "15800\n",
            "15900\n",
            "16000\n",
            "16100\n",
            "16200\n",
            "16300\n",
            "16400\n",
            "16500\n",
            "16600\n",
            "16700\n",
            "16800\n",
            "16900\n",
            "17000\n",
            "17100\n",
            "17200\n",
            "17300\n",
            "17400\n",
            "17500\n",
            "17600\n",
            "17700\n",
            "17800\n",
            "17900\n",
            "18000\n",
            "18100\n",
            "18200\n",
            "18300\n",
            "18400\n",
            "18500\n",
            "18600\n",
            "18700\n",
            "18800\n",
            "18900\n"
          ],
          "name": "stdout"
        }
      ]
    },
    {
      "cell_type": "code",
      "metadata": {
        "id": "lRTowFF7Bubq"
      },
      "source": [
        "z = zipfile.ZipFile('/content/drive/MyDrive/Colorization/zip/test.zip', 'r')\n",
        "img = z.extractall()\n",
        "path = '/content/test'\n",
        "fileList = os.listdir(path)\n",
        "for i in fileList:\n",
        "   file_ = cv2.imread(('/content/test/' + i))\n",
        "   file_ = cv2.cvtColor(file_, cv2.COLOR_BGR2RGB)\n",
        "   file_ = np.array(file_, dtype=float)\n",
        "   image = Image.fromarray(np.uint8(file_)).resize((128, 128))\n",
        "   image = np.array(image, dtype=float)\n",
        "   if image.shape!=(128,128,3):\n",
        "      print('ЧБ')\n",
        "   else:\n",
        "      lab = rgb2lab(1.2/255*image)\n",
        "      x_set.append(lab)\n",
        "      j=j+1\n",
        "   if j%100 == 0 or j == 50018 or j == 50019:\n",
        "      print(j)"
      ],
      "execution_count": null,
      "outputs": []
    },
    {
      "cell_type": "code",
      "metadata": {
        "id": "X6L42PoABkh2"
      },
      "source": [
        "a = np.array(x_set)\n",
        "np.random.shuffle(a)\n",
        "print(type(a))\n",
        "print(a.shape)"
      ],
      "execution_count": null,
      "outputs": []
    },
    {
      "cell_type": "code",
      "metadata": {
        "id": "F-aCeFjkJSLO"
      },
      "source": [
        "#Узнаем среднее значение и стандартное отклонение каждого канала, сначала переведем в Lab\n",
        "mean_L = np.mean(a[:,:,:,0])\n",
        "mean_a = np.mean(a[:,:,:,1])\n",
        "mean_b = np.mean(a[:,:,:,2])\n",
        "std_L = np.std(a[:,:,:,0])\n",
        "std_a = np.std(a[:,:,:,1])\n",
        "std_b = np.std(a[:,:,:,2])"
      ],
      "execution_count": null,
      "outputs": []
    },
    {
      "cell_type": "code",
      "metadata": {
        "id": "7jPXPBtkKyEB"
      },
      "source": [
        "print('mean_L =', mean_L)\n",
        "print('mean_a =', mean_a)\n",
        "print('mean_b =', mean_b)\n",
        "print('std_L =', std_L)\n",
        "print('std_a =', std_a)\n",
        "print('std_b =', std_b)"
      ],
      "execution_count": null,
      "outputs": []
    },
    {
      "cell_type": "code",
      "metadata": {
        "id": "28iV4U09BoKW"
      },
      "source": [
        "#по отдельности сделать это\n",
        "\n",
        "import os\n",
        "import zipfile\n",
        "from PIL import Image \n",
        "\n",
        "newzip = zipfile.ZipFile('/content/drive/MyDrive/Colorization/zip/traaain.zip', 'w')\n",
        "for i in range(2153):\n",
        "    picture = Image.fromarray(a[i], 'RGB')\n",
        "    picture = picture.save(str(i+1) + \".jpg\")\n",
        "    newzip.write(str(i+1) + \".jpg\") #добавляем файл в архив\n",
        "\n",
        "newzip.close() #закрываем архив"
      ],
      "execution_count": null,
      "outputs": []
    }
  ]
}