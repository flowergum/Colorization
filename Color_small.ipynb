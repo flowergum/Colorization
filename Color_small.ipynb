{
  "nbformat": 4,
  "nbformat_minor": 0,
  "metadata": {
    "colab": {
      "name": "Color small",
      "provenance": [],
      "collapsed_sections": [
        "-XPAYfbu4VLs"
      ],
      "toc_visible": true,
      "include_colab_link": true
    },
    "kernelspec": {
      "display_name": "Python 3",
      "name": "python3"
    },
    "accelerator": "GPU"
  },
  "cells": [
    {
      "cell_type": "markdown",
      "metadata": {
        "id": "view-in-github",
        "colab_type": "text"
      },
      "source": [
        "<a href=\"https://colab.research.google.com/github/flowergum/Colorization/blob/main/Color_small.ipynb\" target=\"_parent\"><img src=\"https://colab.research.google.com/assets/colab-badge.svg\" alt=\"Open In Colab\"/></a>"
      ]
    },
    {
      "cell_type": "markdown",
      "metadata": {
        "id": "2RWb_Qaa2jc9"
      },
      "source": [
        "# Восстановление цвета чёрно-белых изображений"
      ]
    },
    {
      "cell_type": "markdown",
      "metadata": {
        "id": "eoaypyoY2pEa"
      },
      "source": [
        "### Импорты и настройки"
      ]
    },
    {
      "cell_type": "code",
      "metadata": {
        "id": "60nUK_xGiCCJ"
      },
      "source": [
        "import os\n",
        "import shutil\n",
        "import tensorflow as tf\n",
        "import tensorboard as tb\n",
        "import torch\n",
        "import math\n",
        "import numpy as np\n",
        "from torch import nn\n",
        "from torch.utils.data import DataLoader\n",
        "from torch.nn import RNN, LSTM\n",
        "import torchvision\n",
        "from torchvision.datasets import MNIST, CIFAR10\n",
        "from torchvision import transforms\n",
        "import matplotlib.pyplot as plt\n",
        "from tqdm.notebook import tqdm\n",
        "from torch.nn import init\n",
        "from torchsummary import summary\n",
        "from torch.utils.tensorboard import SummaryWriter\n",
        "import matplotlib.pyplot as plt"
      ],
      "execution_count": null,
      "outputs": []
    },
    {
      "cell_type": "code",
      "metadata": {
        "id": "HF9pPCQMUYzC"
      },
      "source": [
        "from tensorflow.keras.models import Sequential, Model\n",
        "from tensorflow.keras.layers import Conv2D, \\\n",
        "                                    Dense, \\\n",
        "                                    MaxPool2D,\\\n",
        "                                    Dropout, \\\n",
        "                                    Flatten, \\\n",
        "                                    BatchNormalization, InputLayer, UpSampling2D\n",
        "from tensorflow.keras.preprocessing.image import ImageDataGenerator, load_img, img_to_array, array_to_img\n",
        "from skimage.color import rgb2lab, lab2rgb\n",
        "from skimage.io import imsave\n",
        "from google.colab import files\n",
        "from io import BytesIO\n",
        "from PIL import Image\n",
        "import matplotlib.pyplot as plt\n",
        "import glob\n",
        "\n",
        "import zipfile\n",
        "import os\n",
        "from PIL import Image\n",
        "import matplotlib.pyplot as plt\n",
        "\n",
        "import cv2"
      ],
      "execution_count": null,
      "outputs": []
    },
    {
      "cell_type": "code",
      "metadata": {
        "colab": {
          "base_uri": "https://localhost:8080/"
        },
        "id": "f56DAfC-dX0J",
        "outputId": "09b85e0a-540d-4cd5-d7f6-5ba7802ece1a"
      },
      "source": [
        "from google.colab import drive\n",
        "drive.mount('/content/drive')"
      ],
      "execution_count": null,
      "outputs": [
        {
          "output_type": "stream",
          "text": [
            "Drive already mounted at /content/drive; to attempt to forcibly remount, call drive.mount(\"/content/drive\", force_remount=True).\n"
          ],
          "name": "stdout"
        }
      ]
    },
    {
      "cell_type": "code",
      "metadata": {
        "colab": {
          "base_uri": "https://localhost:8080/"
        },
        "id": "hh6QDUZd2THs",
        "outputId": "c55cf5f6-5090-4dc8-9fe6-3c1f159c9e73"
      },
      "source": [
        "gpus = tf.config.experimental.list_physical_devices('GPU')\n",
        "if gpus:\n",
        "  try:\n",
        "    # Currently, memory growth needs to be the same across GPUs\n",
        "    for gpu in gpus:\n",
        "      tf.config.experimental.set_memory_growth(gpu, True)\n",
        "    logical_gpus = tf.config.experimental.list_logical_devices('GPU')\n",
        "    print(len(gpus), \"Physical GPUs,\", len(logical_gpus), \"Logical GPUs\")\n",
        "  except RuntimeError as e:\n",
        "    # Memory growth must be set before GPUs have been initialized\n",
        "    print(e)"
      ],
      "execution_count": null,
      "outputs": [
        {
          "output_type": "stream",
          "text": [
            "1 Physical GPUs, 1 Logical GPUs\n"
          ],
          "name": "stdout"
        }
      ]
    },
    {
      "cell_type": "code",
      "metadata": {
        "id": "x-uYKVOHddh8",
        "colab": {
          "base_uri": "https://localhost:8080/"
        },
        "outputId": "cc8e0e42-6351-45f8-cce3-5b294fde198b"
      },
      "source": [
        "!nvidia-smi"
      ],
      "execution_count": null,
      "outputs": [
        {
          "output_type": "stream",
          "text": [
            "Thu May 13 12:43:28 2021       \n",
            "+-----------------------------------------------------------------------------+\n",
            "| NVIDIA-SMI 465.19.01    Driver Version: 460.32.03    CUDA Version: 11.2     |\n",
            "|-------------------------------+----------------------+----------------------+\n",
            "| GPU  Name        Persistence-M| Bus-Id        Disp.A | Volatile Uncorr. ECC |\n",
            "| Fan  Temp  Perf  Pwr:Usage/Cap|         Memory-Usage | GPU-Util  Compute M. |\n",
            "|                               |                      |               MIG M. |\n",
            "|===============================+======================+======================|\n",
            "|   0  Tesla P4            Off  | 00000000:00:04.0 Off |                    0 |\n",
            "| N/A   39C    P0    24W /  75W |    199MiB /  7611MiB |      0%      Default |\n",
            "|                               |                      |                  N/A |\n",
            "+-------------------------------+----------------------+----------------------+\n",
            "                                                                               \n",
            "+-----------------------------------------------------------------------------+\n",
            "| Processes:                                                                  |\n",
            "|  GPU   GI   CI        PID   Type   Process name                  GPU Memory |\n",
            "|        ID   ID                                                   Usage      |\n",
            "|=============================================================================|\n",
            "+-----------------------------------------------------------------------------+\n"
          ],
          "name": "stdout"
        }
      ]
    },
    {
      "cell_type": "markdown",
      "metadata": {
        "id": "XUu0yTHI25dU"
      },
      "source": [
        "### Загрузка датасета"
      ]
    },
    {
      "cell_type": "code",
      "metadata": {
        "id": "d82GYxY_1RSJ"
      },
      "source": [
        "#from google.colab import drive\n",
        "#drive.mount('/content/drive')"
      ],
      "execution_count": null,
      "outputs": []
    },
    {
      "cell_type": "code",
      "metadata": {
        "id": "qCYtFQB5yOan"
      },
      "source": [
        "#скачиваем и распаковываем .zip файл с изображениями для train, делать 1 раз\n",
        "z = zipfile.ZipFile('/content/drive/MyDrive/Colorization/zip/traain.zip', 'r')\n",
        "img = z.extractall()"
      ],
      "execution_count": null,
      "outputs": []
    },
    {
      "cell_type": "code",
      "metadata": {
        "id": "CEK5P9_3Fjk7"
      },
      "source": [
        "#скачиваем и распаковываем .zip файл с изображениями для test, делать 1 раз\n",
        "z = zipfile.ZipFile('/content/drive/MyDrive/Colorization/zip/teest.zip', 'r')\n",
        "img = z.extractall()"
      ],
      "execution_count": null,
      "outputs": []
    },
    {
      "cell_type": "markdown",
      "metadata": {
        "id": "K-M7RZby2uOy"
      },
      "source": [
        "### Создание генератора датасета"
      ]
    },
    {
      "cell_type": "code",
      "metadata": {
        "id": "rmNreHzNAWfr"
      },
      "source": [
        "def batch_gen(path):\n",
        "    fileList = os.listdir(path)\n",
        "    for filepath in fileList:\n",
        "        img = cv2.imread(path + \"/\" + filepath)\n",
        "        img = cv2.cvtColor(img, cv2.COLOR_BGR2RGB)\n",
        "        # processed image\n",
        "        image = Image.fromarray(np.uint8(img)).resize((128, 128))\n",
        "        image = np.array(image, dtype=float)\n",
        "        lab = rgb2lab(1.0/255*image)\n",
        "        X, Y = lab[:,:,0], lab[:,:,1:]/128\n",
        "        X = X.reshape(image.shape[0], image.shape[1], 1)\n",
        "        Y = Y.reshape(image.shape[0], image.shape[1], 2)\n",
        "        yield X, Y                                    #yield -- приостанавливает выполнение, не прерывает. Подробнее в тексте\n",
        "\n",
        "def dataset_gen(path, epochs, batch_size):\n",
        "    dataset = tf.data.Dataset.from_generator(lambda: batch_gen(path),\n",
        "                                             output_types=(tf.float64, tf.float64))  #тут формируем датасет\n",
        "    #print(dataset.shape)\n",
        "    dataset = dataset.repeat(epochs)          #повторяем датасет нужное число раз; н-р, epochs = 2: [1, 2, 3] --> [1, 2, 3, 1, 2, 3]\n",
        "    dataset = dataset.batch(batch_size)       #формирует пакеты по batch_size штук в каждом\n",
        "    return dataset\n",
        "\n",
        "def train_gen(path):\n",
        "    dataset = tf.data.Dataset.from_generator(lambda: batch_gen(path),\n",
        "                                             output_types=(tf.float64, tf.float64))  #тут формируем датасет\n",
        "    return dataset"
      ],
      "execution_count": null,
      "outputs": []
    },
    {
      "cell_type": "markdown",
      "metadata": {
        "id": "SHqcQBw3HZmW"
      },
      "source": [
        "### Создание тестовой выборки"
      ]
    },
    {
      "cell_type": "code",
      "metadata": {
        "id": "AEy9rmCaHbOd"
      },
      "source": [
        "def processed_image(img):    \n",
        "  img = np.array(img, dtype=float)\n",
        "  image = Image.fromarray(np.uint8(img)).resize((128, 128))\n",
        "  image = np.array(image, dtype=float)   \n",
        "  size = image.shape\n",
        "  lab = rgb2lab(1.0/255*image)                \n",
        "  X, Y = lab[:,:,0], lab[:,:,1:]              \n",
        "  Y /= 128    \n",
        "\n",
        "\n",
        "  X = X.reshape(size[0], size[1], 1)\n",
        "  Y = Y.reshape(size[0], size[1], 2)\n",
        "  del size\n",
        "  return X, Y"
      ],
      "execution_count": null,
      "outputs": []
    },
    {
      "cell_type": "code",
      "metadata": {
        "id": "wtVdTQeT6ips"
      },
      "source": [
        "#train выборка методами test-выборки\n",
        "import cv2\n",
        "x_train = []\n",
        "y_train = []\n",
        "#путь к папке с распакованными изображениями\n",
        "path = '/content/traain'\n",
        "fileList = os.listdir(path)\n",
        "j = 0\n",
        "for i in fileList:\n",
        "   file_ = cv2.imread(('/content/traain/' + i))\n",
        "   file_ = cv2.cvtColor(file_, cv2.COLOR_BGR2RGB)\n",
        "   X, Y = processed_image(file_)\n",
        "   #print(X.shape)\n",
        "   if X.shape == (128, 128, 1) and Y.shape == (128, 128, 2):\n",
        "      x_train.append(X)\n",
        "      y_train.append(Y)\n",
        "   else:\n",
        "      print('xexe')\n",
        "   j += 1\n",
        "\n",
        "\n",
        "x_train = np.array(x_train)\n",
        "y_train = np.array(y_train)\n",
        "print(x_train.shape, y_train.shape)"
      ],
      "execution_count": null,
      "outputs": []
    },
    {
      "cell_type": "code",
      "metadata": {
        "id": "tqJzR0dwipBO"
      },
      "source": [
        "max1 = np.amax(y_train)\n",
        "min1 = np.amin(y_train)\n",
        "mean_a = np.mean(y_train[:,:,:,0])\n",
        "mean_b = np.mean(y_train[:,:,:,1])\n",
        "std_a = np.std(y_train[:,:,:,0])\n",
        "std_b = np.std(y_train[:,:,:,1])"
      ],
      "execution_count": null,
      "outputs": []
    },
    {
      "cell_type": "code",
      "metadata": {
        "id": "lQN4Q_AcVqC6"
      },
      "source": [
        "y_train[:,:,:,0] = (y_train[:,:,:,0] - np.mean(y_train[:,:,:,0]))/np.std(y_train[:,:,:,0])\n",
        "y_train[:,:,:,1] = (y_train[:,:,:,1] - np.mean(y_train[:,:,:,1]))/np.std(y_train[:,:,:,1])"
      ],
      "execution_count": null,
      "outputs": []
    },
    {
      "cell_type": "code",
      "metadata": {
        "id": "iJryEuXdHnJ3"
      },
      "source": [
        "import cv2\n",
        "list_x = []\n",
        "list_y = []\n",
        "#путь к папке с распакованными изображениями\n",
        "path = '/content/teest'\n",
        "fileList = os.listdir(path)\n",
        "for i in fileList:\n",
        "   file_ = cv2.imread(('/content/teest/' + i))\n",
        "   file_ = cv2.cvtColor(file_, cv2.COLOR_BGR2RGB)\n",
        "   X, Y = processed_image(file_)\n",
        "   #print(X.shape)\n",
        "   if X.shape == (128, 128, 1) and Y.shape == (128, 128, 2):\n",
        "      list_x.append(X)\n",
        "      list_y.append(Y)\n",
        "   else:\n",
        "      print('xexe')"
      ],
      "execution_count": null,
      "outputs": []
    },
    {
      "cell_type": "code",
      "metadata": {
        "id": "DW0M1rvrH52_",
        "colab": {
          "base_uri": "https://localhost:8080/"
        },
        "outputId": "7726df7e-3506-404f-87a9-127bafc8b669"
      },
      "source": [
        "list_x = np.array(list_x)\n",
        "list_y = np.array(list_y)\n",
        "print(list_x.shape, list_y.shape)"
      ],
      "execution_count": null,
      "outputs": [
        {
          "output_type": "stream",
          "text": [
            "(3729, 128, 128, 1) (3729, 128, 128, 2)\n"
          ],
          "name": "stdout"
        }
      ]
    },
    {
      "cell_type": "code",
      "metadata": {
        "id": "eJw0dhMVYQhv"
      },
      "source": [
        "list_y[:,:,:,0] = (list_y[:,:,:,0] - np.mean(list_y[:,:,:,0]))/np.std(list_y[:,:,:,0])\n",
        "list_y[:,:,:,1] = (list_y[:,:,:,1] - np.mean(list_y[:,:,:,1]))/np.std(list_y[:,:,:,1])"
      ],
      "execution_count": null,
      "outputs": []
    },
    {
      "cell_type": "markdown",
      "metadata": {
        "id": "Ta8PPIJb4JM7"
      },
      "source": [
        "### Создание модели"
      ]
    },
    {
      "cell_type": "code",
      "metadata": {
        "id": "7K1U73jGz5_-"
      },
      "source": [
        "model = Sequential()                                                      # Последовательная\n",
        "model.add(InputLayer(input_shape=(None, None, 1)))                        # Входной слой, подаем на вход яркостную компоненту\n",
        "model.add(Conv2D(64, (3, 3), activation='relu', padding='same'))          # Свертка, 64 фильтра\n",
        "model.add(MaxPool2D(pool_size=(2, 2)))\n",
        "model.add(Conv2D(128, (3, 3), activation='relu', padding='same'))\n",
        "model.add(MaxPool2D(pool_size=(2, 2)))\n",
        "model.add(Conv2D(256, (3, 3), activation='relu', padding='same'))\n",
        "model.add(MaxPool2D(pool_size=(2, 2)))\n",
        "model.add(Conv2D(512, (3, 3), activation='relu', padding='same'))\n",
        "#model.add(UpSampling2D((2, 2))) #Растягивает картинку\n",
        "model.add(Conv2D(256, (3, 3), activation='relu', padding='same'))\n",
        "#model.add(UpSampling2D((2, 2)))\n",
        "model.add(Conv2D(128, (3, 3), activation='relu', padding='same'))\n",
        "model.add(UpSampling2D((2, 2)))\n",
        "model.add(Conv2D(64, (3, 3), activation='relu', padding='same'))\n",
        "model.add(UpSampling2D((2, 2)))\n",
        "model.add(Conv2D(32, (3, 3), activation='relu', padding='same'))\n",
        "#model.add(BatchNormalization())\n",
        "model.add(Conv2D(2, (3, 3), activation='tanh', padding='same'))\n",
        "model.add(UpSampling2D((2, 2)))\n",
        "\n",
        "model.compile(optimizer='adam', loss='mse')\n",
        "#model.summary()"
      ],
      "execution_count": null,
      "outputs": []
    },
    {
      "cell_type": "markdown",
      "metadata": {
        "id": "-XPAYfbu4VLs"
      },
      "source": [
        "#### Модель 2, для сравнения"
      ]
    },
    {
      "cell_type": "code",
      "metadata": {
        "id": "UPRjNZ4WHBny"
      },
      "source": [
        " model2 = Sequential()     #из статьи сравниваю\n",
        " model2.add(InputLayer(input_shape=(None, None, 1)))\n",
        " model2.add(Conv2D(64, (3, 3), activation='relu', padding='same'))\n",
        " model2.add(Conv2D(64, (3, 3), activation='relu', padding='same', strides=2))\n",
        " model2.add(Conv2D(128, (3, 3), activation='relu', padding='same'))\n",
        " model2.add(Conv2D(128, (3, 3), activation='relu', padding='same', strides=2))\n",
        " model2.add(Conv2D(256, (3, 3), activation='relu', padding='same'))\n",
        " model2.add(Conv2D(256, (3, 3), activation='relu', padding='same', strides=2))\n",
        " model2.add(Conv2D(512, (3, 3), activation='relu', padding='same'))\n",
        " model2.add(Conv2D(256, (3, 3), activation='relu', padding='same'))\n",
        " model2.add(Conv2D(128, (3, 3), activation='relu', padding='same'))\n",
        " model2.add(UpSampling2D((2, 2)))\n",
        " model2.add(Conv2D(64, (3, 3), activation='relu', padding='same'))\n",
        " model2.add(UpSampling2D((2, 2)))\n",
        " model2.add(Conv2D(32, (3, 3), activation='relu', padding='same'))\n",
        " model2.add(Conv2D(2, (3, 3), activation='tanh', padding='same'))\n",
        " model2.add(UpSampling2D((2, 2)))\n",
        "\n",
        " #model2.compile(optimizer='adam', loss='mse')"
      ],
      "execution_count": null,
      "outputs": []
    },
    {
      "cell_type": "code",
      "metadata": {
        "id": "WrWa-RUEIXN1"
      },
      "source": [
        "# history2 = model2.fit(x=x_train, y=y_train, batch_size=100, epochs=35) #всего 55 эпох (55 -- оптимально: размер изображения: 128*128, 2500 картинок на 5 классов)"
      ],
      "execution_count": null,
      "outputs": []
    },
    {
      "cell_type": "markdown",
      "metadata": {
        "id": "ayRh35Pn4cES"
      },
      "source": [
        "### Обучение сети"
      ]
    },
    {
      "cell_type": "code",
      "metadata": {
        "id": "z_gakBmac8bM"
      },
      "source": [
        "#model.load_weights(\"drive/MyDrive/Colorization/weights/4.normal_3_classes_30_epoch_9728_samples.h5\")\n",
        "\n",
        "# Сами разбейте новый объект датасета на тренировочную и тестовую выборку\n",
        "# history = model.fit(x=x_train1, y=y_train1, batch_size=500, epochs=6, validation_data=(x_test1, y_test1))"
      ],
      "execution_count": null,
      "outputs": []
    },
    {
      "cell_type": "code",
      "metadata": {
        "id": "ZylZs3QU-l9O",
        "colab": {
          "base_uri": "https://localhost:8080/"
        },
        "outputId": "380dc244-61ae-4ae5-b958-2aefc5672f60"
      },
      "source": [
        "train_path = '/content/traain'\n",
        "test_path = '/content/teest'\n",
        "\n",
        "epochs = 15\n",
        "batch_size = 256\n",
        "total_items = len(os.listdir(train_path))\n",
        "num_batches = int(total_items/batch_size)\n",
        "print(f\"batch_size={batch_size}\\nnum_batches = {num_batches}\\ntotal_samples={num_batches*batch_size}\\n{'-'*30}\")\n",
        "\n",
        "\n",
        "dataset = dataset_gen(train_path, epochs, batch_size)\n",
        "\n",
        "#history = model.fit(x=x_train, y=y_train, batch_size=256, epochs=30, validation_data=(list_x, list_y))\n",
        "history = model.fit(dataset, steps_per_epoch=num_batches, epochs=epochs, validation_data=(list_x, list_y), verbose=1)"
      ],
      "execution_count": null,
      "outputs": [
        {
          "output_type": "stream",
          "text": [
            "batch_size=256\n",
            "num_batches = 74\n",
            "total_samples=18944\n",
            "------------------------------\n",
            "Epoch 1/15\n",
            "74/74 [==============================] - 287s 3s/step - loss: 0.7743 - val_loss: 0.0113\n",
            "Epoch 2/15\n",
            "74/74 [==============================] - 245s 3s/step - loss: 0.0111 - val_loss: 0.0101\n",
            "Epoch 3/15\n",
            "74/74 [==============================] - 244s 3s/step - loss: 0.0100 - val_loss: 0.0094\n",
            "Epoch 4/15\n",
            "74/74 [==============================] - 246s 3s/step - loss: 0.0096 - val_loss: 0.0092\n",
            "Epoch 5/15\n",
            "74/74 [==============================] - 244s 3s/step - loss: 0.0093 - val_loss: 0.0090\n",
            "Epoch 6/15\n",
            "74/74 [==============================] - 246s 3s/step - loss: 0.0092 - val_loss: 0.0087\n",
            "Epoch 7/15\n",
            "74/74 [==============================] - 248s 3s/step - loss: 0.0090 - val_loss: 0.0087\n",
            "Epoch 8/15\n",
            "74/74 [==============================] - 252s 3s/step - loss: 0.0090 - val_loss: 0.0086\n",
            "Epoch 9/15\n",
            "74/74 [==============================] - 252s 3s/step - loss: 0.0089 - val_loss: 0.0085\n",
            "Epoch 10/15\n",
            "74/74 [==============================] - 252s 3s/step - loss: 0.0087 - val_loss: 0.0084\n",
            "Epoch 11/15\n",
            "74/74 [==============================] - 247s 3s/step - loss: 0.0086 - val_loss: 0.0083\n",
            "Epoch 12/15\n",
            "74/74 [==============================] - 249s 3s/step - loss: 0.0085 - val_loss: 0.0084\n",
            "Epoch 13/15\n",
            "74/74 [==============================] - 250s 3s/step - loss: 0.0085 - val_loss: 0.0083\n",
            "Epoch 14/15\n",
            "74/74 [==============================] - 246s 3s/step - loss: 0.0084 - val_loss: 0.0082\n",
            "Epoch 15/15\n",
            "62/74 [========================>.....] - ETA: 40s - loss: 0.0084"
          ],
          "name": "stdout"
        }
      ]
    },
    {
      "cell_type": "code",
      "metadata": {
        "id": "wsatSwcbWcOC"
      },
      "source": [
        "model.save_weights(\"drive/MyDrive/Colorization/weights/Many_classes_15_epoch_18946_samples.h5\")"
      ],
      "execution_count": null,
      "outputs": []
    },
    {
      "cell_type": "markdown",
      "metadata": {
        "id": "oBD2KH_hHcst"
      },
      "source": [
        "#### Вариант обратного преобразования (не допилен)"
      ]
    },
    {
      "cell_type": "code",
      "metadata": {
        "id": "fQ0VlNczFc17"
      },
      "source": [
        "def one_img_to_model(img):\n",
        "    img = np.array(img, dtype=float)\n",
        "    lab = rgb2lab(1.0/255*img)\n",
        "    X, Y = lab[:,:,0], lab[:,:,1:]/128\n",
        "    X = X.reshape(img.shape[0], img.shape[1], 1)\n",
        "    X = np.reshape(X, (1, 128, 128, 1))\n",
        "    return X"
      ],
      "execution_count": null,
      "outputs": []
    },
    {
      "cell_type": "code",
      "metadata": {
        "id": "Qt8qP1DqVRbg"
      },
      "source": [
        "def collect2rgb(l, ab):\n",
        "    ab *= 128\n",
        "    lab = np.concatenate((l, ab), axis = 2)\n",
        "    rgb = lab2rgb(lab)\n",
        "    return rgb"
      ],
      "execution_count": null,
      "outputs": []
    },
    {
      "cell_type": "code",
      "metadata": {
        "colab": {
          "base_uri": "https://localhost:8080/"
        },
        "id": "zHDgqiD8bYNX",
        "outputId": "dc6b1dbe-2f9d-4b02-8eb4-791351a3dfdf"
      },
      "source": [
        "i = 1234\n",
        "\n",
        "a = np.reshape((list_x[i]), (1, 128, 128, 1))\n",
        "y_predict = model.predict(a)\n",
        "print(list_x[i].shape, list_y[i].shape)\n",
        "real = collect2rgb(list_x[i], list_y[i])\n",
        "\n",
        "y = np.reshape((y_predict), (128, 128, 2))\n",
        "predict = collect2rgb(list_x[i], y)\n",
        "#print(real)\n",
        "plt.subplot(1, 2, 1)\n",
        "plt.imshow(real)\n",
        "plt.subplot(1, 2, 2)\n",
        "plt.imshow(predict)"
      ],
      "execution_count": null,
      "outputs": [
        {
          "output_type": "stream",
          "text": [
            "(128, 128, 1) (128, 128, 2)\n"
          ],
          "name": "stdout"
        },
        {
          "output_type": "stream",
          "text": [
            "/usr/local/lib/python3.7/dist-packages/skimage/color/colorconv.py:1068: UserWarning: Color data out of range: Z < 0 in 2 pixels\n",
            "  return xyz2rgb(lab2xyz(lab, illuminant, observer))\n"
          ],
          "name": "stderr"
        },
        {
          "output_type": "execute_result",
          "data": {
            "text/plain": [
              "<matplotlib.image.AxesImage at 0x7ff4299b20d0>"
            ]
          },
          "metadata": {
            "tags": []
          },
          "execution_count": 221
        },
        {
          "output_type": "display_data",
          "data": {
            "image/png": "[encoded data removed]",
            "text/plain": [
              "<Figure size 432x288 with 2 Axes>"
            ]
          },
          "metadata": {
            "tags": [],
            "needs_background": "light"
          }
        }
      ]
    },
    {
      "cell_type": "markdown",
      "metadata": {
        "id": "nLlxNwSd0Nli"
      },
      "source": [
        "#### Без преобразований функциями\n"
      ]
    },
    {
      "cell_type": "code",
      "metadata": {
        "id": "El6bUiMpcgkU"
      },
      "source": [
        "print('ДО:')\n",
        "print('max:', max1)\n",
        "print('min:', min1)\n",
        "print('ПОСЛЕ:')\n",
        "print('max:', np.amax(y_train))\n",
        "print('min:', np.amin(y_train))"
      ],
      "execution_count": null,
      "outputs": []
    },
    {
      "cell_type": "code",
      "metadata": {
        "id": "g72-coav0cIp"
      },
      "source": [
        "i = 20074\n",
        "img = Image.open('/content/drive/MyDrive/Colorization/test/' + str(i) + '.jpg')\n",
        "image = img.resize((1920, 1280))\n",
        "imag = np.array(image)\n",
        "\n",
        "#imag = np.array(img)\n",
        "size = imag.shape \n",
        "print(size)\n",
        "\n",
        "lab = rgb2lab(1.0/255*imag)                \n",
        "A, Y = lab[:,:,0], lab[:,:,1:]\n",
        "\n",
        "X = np.reshape((A), (1, size[0], size[1], 1))\n",
        "print(X.shape)\n",
        "output = model.predict(X)\n",
        "print(output.shape)\n",
        "\n",
        "\n",
        "#output[:,:,:,0] = output[:,:,:,0] * std_a + mean_a\n",
        "#output[:,:,:,1] = output[:,:,:,1] * std_b + mean_b\n",
        "\n",
        "output *= (128)\n",
        "min_vals, max_vals = -128, 127\n",
        "ab = np.clip(output[0], min_vals, max_vals)\n",
        "\n",
        "cur = np.zeros((size[0], size[1], 3))\n",
        "cur[:,:,0] = np.clip(X[0][:,:,0], 0, 100)\n",
        "cur[:,:,1:] = ab\n",
        "rgb = lab2rgb(cur)\n",
        "#rgb[:,:,0] = \n",
        "#rgb[:,:,0] = \n",
        "#rgb[:,:,0] = \n",
        "plt.subplot(1, 2, 1)\n",
        "plt.imshow(img)\n",
        "plt.subplot(1, 2, 2)\n",
        "plt.imshow(rgb)\n"
      ],
      "execution_count": null,
      "outputs": []
    },
    {
      "cell_type": "markdown",
      "metadata": {
        "id": "_B1M8myZB5ac"
      },
      "source": [
        "# График"
      ]
    },
    {
      "cell_type": "code",
      "metadata": {
        "id": "QGGgDN4MB3Il",
        "colab": {
          "base_uri": "https://localhost:8080/",
          "height": 605
        },
        "outputId": "99140968-b495-4d89-e2f8-e07bc1169541"
      },
      "source": [
        "plt.figure(figsize=(16,10))\n",
        "plt.xlabel('Epochs')\n",
        "plt.ylabel(\"mse\")\n",
        "val = plt.plot(history.epoch, history.history['val_'+'loss'],\n",
        "                   '--', label='Val')\n",
        "plt.plot(history.epoch, history.history[\"loss\"], color=val[0].get_color(),\n",
        "             label='Train')\n",
        "plt.legend()\n",
        "plt.xlim([0, max(history.epoch)])\n",
        "#plt.ylim([0,0.02])\n",
        "plt.savefig('/content/drive/MyDrive/Colorization/graphs/Many_classes_15_epoch_18946_samples.png')"
      ],
      "execution_count": null,
      "outputs": [
        {
          "output_type": "display_data",
          "data": {
            "image/png": "[encoded data removed]",
            "text/plain": [
              "<Figure size 1152x720 with 1 Axes>"
            ]
          },
          "metadata": {
            "tags": [],
            "needs_background": "light"
          }
        }
      ]
    },
    {
      "cell_type": "markdown",
      "metadata": {
        "id": "slKTB645IWRg"
      },
      "source": [
        "# Эксперименты"
      ]
    },
    {
      "cell_type": "code",
      "metadata": {
        "id": "SmeL6PsUAr6C",
        "colab": {
          "base_uri": "https://localhost:8080/"
        },
        "outputId": "3b2883c2-abb0-4c2e-ca46-5bfc1e741ae0"
      },
      "source": [
        "import zipfile\n",
        "import os\n",
        "from PIL import Image\n",
        "import numpy as np \n",
        "import matplotlib.pyplot as plt\n",
        "import cv2\n",
        "\n",
        "#скачиваем и распаковываем .zip файл с изображениями, делать 1 раз\n",
        "#z = zipfile.ZipFile('/content/drive/MyDrive/Colorization/zip/traain.zip', 'r')\n",
        "#img = z.extractall()\n",
        "\n",
        "x_set = []\n",
        "\n",
        "#путь к папке с распакованными изображениями\n",
        "path = '/content/traain'\n",
        "fileList = os.listdir(path)\n",
        "j = 0\n",
        "for i in fileList:\n",
        "   file_ = cv2.imread(('/content/traain/' + i))\n",
        "   file_ = cv2.cvtColor(file_, cv2.COLOR_BGR2RGB)\n",
        "   file_ = np.array(file_, dtype=float)\n",
        "   image = Image.fromarray(np.uint8(file_)).resize((128, 128))\n",
        "   image = np.array(image, dtype=float)\n",
        "   if image.shape!=(128,128,3):\n",
        "      print('ЧБ')\n",
        "   else:\n",
        "      lab = rgb2lab(1.2/255*image)\n",
        "      x_set.append(lab)\n",
        "      j=j+1\n",
        "   if j%100 == 0 or j == 50018 or j == 50019:\n",
        "      print(j)"
      ],
      "execution_count": null,
      "outputs": [
        {
          "output_type": "stream",
          "text": [
            "100\n",
            "200\n",
            "300\n",
            "400\n",
            "500\n",
            "600\n",
            "700\n",
            "800\n",
            "900\n",
            "1000\n",
            "1100\n",
            "1200\n",
            "1300\n",
            "1400\n",
            "1500\n",
            "1600\n",
            "1700\n",
            "1800\n",
            "1900\n",
            "2000\n",
            "2100\n",
            "2200\n",
            "2300\n",
            "2400\n",
            "2500\n",
            "2600\n",
            "2700\n",
            "2800\n",
            "2900\n",
            "3000\n",
            "3100\n",
            "3200\n",
            "3300\n",
            "3400\n",
            "3500\n",
            "3600\n",
            "3700\n",
            "3800\n",
            "3900\n",
            "4000\n",
            "4100\n",
            "4200\n",
            "4300\n",
            "4400\n",
            "4500\n",
            "4600\n",
            "4700\n",
            "4800\n",
            "4900\n",
            "5000\n",
            "5100\n",
            "5200\n",
            "5300\n",
            "5400\n",
            "5500\n",
            "5600\n",
            "5700\n",
            "5800\n",
            "5900\n",
            "6000\n",
            "6100\n",
            "6200\n",
            "6300\n",
            "6400\n",
            "6500\n",
            "6600\n",
            "6700\n",
            "6800\n",
            "6900\n",
            "7000\n",
            "7100\n",
            "7200\n",
            "7300\n",
            "7400\n",
            "7500\n",
            "7600\n",
            "7700\n",
            "7800\n",
            "7900\n",
            "8000\n",
            "8100\n",
            "8200\n",
            "8300\n",
            "8400\n",
            "8500\n",
            "8600\n",
            "8700\n",
            "8800\n",
            "8900\n",
            "9000\n",
            "9100\n",
            "9200\n",
            "9300\n",
            "9400\n",
            "9500\n",
            "9600\n",
            "9700\n",
            "9800\n",
            "9900\n",
            "10000\n",
            "10100\n",
            "10200\n",
            "10300\n",
            "10400\n",
            "10500\n",
            "10600\n",
            "10700\n",
            "10800\n",
            "10900\n",
            "11000\n",
            "11100\n",
            "11200\n",
            "11300\n",
            "11400\n",
            "11500\n",
            "11600\n",
            "11700\n",
            "11800\n",
            "11900\n",
            "12000\n",
            "12100\n",
            "12200\n",
            "12300\n",
            "12400\n",
            "12500\n",
            "12600\n",
            "12700\n",
            "12800\n",
            "12900\n",
            "13000\n",
            "13100\n",
            "13200\n",
            "13300\n",
            "13400\n",
            "13500\n",
            "13600\n",
            "13700\n",
            "13800\n",
            "13900\n",
            "14000\n",
            "14100\n",
            "14200\n",
            "14300\n",
            "14400\n",
            "14500\n",
            "14600\n",
            "14700\n",
            "14800\n",
            "14900\n",
            "15000\n",
            "15100\n",
            "15200\n",
            "15300\n",
            "15400\n",
            "15500\n",
            "15600\n",
            "15700\n",
            "15800\n",
            "15900\n",
            "16000\n",
            "16100\n",
            "16200\n",
            "16300\n",
            "16400\n",
            "16500\n",
            "16600\n",
            "16700\n",
            "16800\n",
            "16900\n",
            "17000\n",
            "17100\n",
            "17200\n",
            "17300\n",
            "17400\n",
            "17500\n",
            "17600\n",
            "17700\n",
            "17800\n",
            "17900\n",
            "18000\n",
            "18100\n",
            "18200\n",
            "18300\n",
            "18400\n",
            "18500\n",
            "18600\n",
            "18700\n",
            "18800\n",
            "18900\n"
          ],
          "name": "stdout"
        }
      ]
    },
    {
      "cell_type": "code",
      "metadata": {
        "id": "lRTowFF7Bubq"
      },
      "source": [
        "z = zipfile.ZipFile('/content/drive/MyDrive/Colorization/zip/test.zip', 'r')\n",
        "img = z.extractall()\n",
        "path = '/content/test'\n",
        "fileList = os.listdir(path)\n",
        "for i in fileList:\n",
        "   file_ = cv2.imread(('/content/test/' + i))\n",
        "   file_ = cv2.cvtColor(file_, cv2.COLOR_BGR2RGB)\n",
        "   file_ = np.array(file_, dtype=float)\n",
        "   image = Image.fromarray(np.uint8(file_)).resize((128, 128))\n",
        "   image = np.array(image, dtype=float)\n",
        "   if image.shape!=(128,128,3):\n",
        "      print('ЧБ')\n",
        "   else:\n",
        "      lab = rgb2lab(1.2/255*image)\n",
        "      x_set.append(lab)\n",
        "      j=j+1\n",
        "   if j%100 == 0 or j == 50018 or j == 50019:\n",
        "      print(j)"
      ],
      "execution_count": null,
      "outputs": []
    },
    {
      "cell_type": "code",
      "metadata": {
        "id": "X6L42PoABkh2"
      },
      "source": [
        "a = np.array(x_set)\n",
        "np.random.shuffle(a)\n",
        "print(type(a))\n",
        "print(a.shape)"
      ],
      "execution_count": null,
      "outputs": []
    },
    {
      "cell_type": "code",
      "metadata": {
        "id": "F-aCeFjkJSLO"
      },
      "source": [
        "#Узнаем среднее значение и стандартное отклонение каждого канала, сначала переведем в Lab\n",
        "mean_L = np.mean(a[:,:,:,0])\n",
        "mean_a = np.mean(a[:,:,:,1])\n",
        "mean_b = np.mean(a[:,:,:,2])\n",
        "std_L = np.std(a[:,:,:,0])\n",
        "std_a = np.std(a[:,:,:,1])\n",
        "std_b = np.std(a[:,:,:,2])"
      ],
      "execution_count": null,
      "outputs": []
    },
    {
      "cell_type": "code",
      "metadata": {
        "id": "7jPXPBtkKyEB"
      },
      "source": [
        "print('mean_L =', mean_L)\n",
        "print('mean_a =', mean_a)\n",
        "print('mean_b =', mean_b)\n",
        "print('std_L =', std_L)\n",
        "print('std_a =', std_a)\n",
        "print('std_b =', std_b)"
      ],
      "execution_count": null,
      "outputs": []
    },
    {
      "cell_type": "code",
      "metadata": {
        "id": "28iV4U09BoKW"
      },
      "source": [
        "#по отдельности сделать это\n",
        "\n",
        "import os\n",
        "import zipfile\n",
        "from PIL import Image \n",
        "\n",
        "newzip = zipfile.ZipFile('/content/drive/MyDrive/Colorization/zip/traaain.zip', 'w')\n",
        "for i in range(2153):\n",
        "    picture = Image.fromarray(a[i], 'RGB')\n",
        "    picture = picture.save(str(i+1) + \".jpg\")\n",
        "    newzip.write(str(i+1) + \".jpg\") #добавляем файл в архив\n",
        "\n",
        "newzip.close() #закрываем архив"
      ],
      "execution_count": null,
      "outputs": []
    }
  ]
}