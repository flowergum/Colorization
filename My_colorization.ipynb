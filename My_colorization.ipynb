{
  "nbformat": 4,
  "nbformat_minor": 0,
  "metadata": {
    "colab": {
      "name": "My colorization",
      "provenance": [],
      "mount_file_id": "1sbFbYsPo1VUDGQjrTinzUdC7RsQMinNI",
      "authorship_tag": "ABX9TyPQzJsuw3F5wnNs0l2ERLWb",
      "include_colab_link": true
    },
    "kernelspec": {
      "name": "python3",
      "display_name": "Python 3"
    },
    "accelerator": "GPU"
  },
  "cells": [
    {
      "cell_type": "markdown",
      "metadata": {
        "id": "view-in-github",
        "colab_type": "text"
      },
      "source": [
        "<a href=\"https://colab.research.google.com/github/flowergum/Colorization/blob/main/My_colorization.ipynb\" target=\"_parent\"><img src=\"https://colab.research.google.com/assets/colab-badge.svg\" alt=\"Open In Colab\"/></a>"
      ]
    },
    {
      "cell_type": "code",
      "metadata": {
        "id": "HF9pPCQMUYzC"
      },
      "source": [
        "from tensorflow.keras.models import Sequential, Model\n",
        "from tensorflow.keras.layers import Conv2D, \\\n",
        "                                    Dense, \\\n",
        "                                    MaxPool2D,\\\n",
        "                                    Dropout, \\\n",
        "                                    Flatten, \\\n",
        "                                    BatchNormalization, InputLayer, UpSampling2D\n",
        "from tensorflow.keras.preprocessing.image import ImageDataGenerator, load_img, img_to_array, array_to_img\n",
        "from skimage.color import rgb2lab, lab2rgb\n",
        "import tensorflow as tf\n",
        "from skimage.io import imsave\n",
        "import numpy as np\n",
        "from google.colab import files\n",
        "from io import BytesIO\n",
        "from PIL import Image\n",
        "import matplotlib.pyplot as plt"
      ],
      "execution_count": 1,
      "outputs": []
    },
    {
      "cell_type": "code",
      "metadata": {
        "colab": {
          "base_uri": "https://localhost:8080/"
        },
        "id": "hh6QDUZd2THs",
        "outputId": "4d63e744-5020-4bc8-fca4-a3485f249732"
      },
      "source": [
        "gpus = tf.config.experimental.list_physical_devices('GPU')\n",
        "if gpus:\n",
        "  try:\n",
        "    # Currently, memory growth needs to be the same across GPUs\n",
        "    for gpu in gpus:\n",
        "      tf.config.experimental.set_memory_growth(gpu, True)\n",
        "    logical_gpus = tf.config.experimental.list_logical_devices('GPU')\n",
        "    print(len(gpus), \"Physical GPUs,\", len(logical_gpus), \"Logical GPUs\")\n",
        "  except RuntimeError as e:\n",
        "    # Memory growth must be set before GPUs have been initialized\n",
        "    print(e)"
      ],
      "execution_count": 2,
      "outputs": [
        {
          "output_type": "stream",
          "text": [
            "1 Physical GPUs, 1 Logical GPUs\n"
          ],
          "name": "stdout"
        }
      ]
    },
    {
      "cell_type": "code",
      "metadata": {
        "id": "buXj7azedR6H"
      },
      "source": [
        "def processed_image(img):\n",
        "  image = img.resize( (128, 128))               # нужный нам размер\n",
        "  image = np.array(image, dtype=float)          # в массив\n",
        "  size = image.shape                            # размер изображения\n",
        "  lab = rgb2lab(1.0/255*image)                  #  в лаб, предварительно переведя в диапазон от 0 до 1\n",
        "  X, Y = lab[:,:,0], lab[:,:,1:]                #в Х кладем яркостную компоненту, в Y -- две цветовые\n",
        "\n",
        "  Y /= 128                                      # нормируем выходные значение в диапазон от -1 до 1\n",
        "  X = X.reshape(1, size[0], size[1], 1)\n",
        "  Y = Y.reshape(1, size[0], size[1], 2)\n",
        "  return X, Y, size"
      ],
      "execution_count": 3,
      "outputs": []
    },
    {
      "cell_type": "code",
      "metadata": {
        "id": "1GNjdnUvAPle"
      },
      "source": [
        "def pr_img():\n",
        "    x_train = np.zeros((10, 128, 128, 1))       # тут создаем пакеты\n",
        "    y_train = np.zeros((10, 128, 128, 2))\n",
        "    for i in range(10):\n",
        "        name = 'drive/MyDrive/Colorization/Step_2.Flowers/easy_geometry/' + str(i+1) + '.jpg'\n",
        "        img = Image.open(name)\n",
        "        x_train[i], y_train[i], size = processed_image(img)\n",
        "    return x_train, y_train\n"
      ],
      "execution_count": 4,
      "outputs": []
    },
    {
      "cell_type": "code",
      "metadata": {
        "id": "3CeiSrOVYF-T",
        "colab": {
          "base_uri": "https://localhost:8080/",
          "height": 416
        },
        "outputId": "9e92eec0-4435-4f57-bb13-74c4a25fd88e"
      },
      "source": [
        "img = Image.open('drive/MyDrive/Colorization/Step_2.Flowers/test/6.jpg')   # тут проверяем, что пространство норм \n",
        "image = img.resize( (128, 128))              \n",
        "image = np.array(image, dtype=float)         \n",
        "size = image.shape                           \n",
        "lab = rgb2lab(1.0/255*image)                 \n",
        "X, Y, Z = lab[:,:,0], lab[:,:,1], lab[:,:,2] \n",
        "A = np.zeros((128, 128))                                 \n",
        "#X = X.reshape(1, size[0], size[1], 1)\n",
        "#Y = Y.reshape(1, size[0], size[1], 1)\n",
        "#Z = Z.reshape(1, size[0], size[1], 1)\n",
        "print(X.shape, ', ', Y.shape, ', ', Z.shape)\n",
        "X1 = np.stack((X, A, A), axis=2)\n",
        "Y1 = np.stack((A, Y, A), axis=2)\n",
        "Z1 = np.stack((A, A, Z), axis=2)\n",
        "A1 = np.stack((X, Y, Z), axis=2)\n",
        "print(X1.shape)\n",
        "plt.subplot(2, 4, 1)\n",
        "plt.imshow(lab2rgb(X1))\n",
        "plt.subplot(2, 4, 2)\n",
        "plt.imshow(lab2rgb(Y1))\n",
        "plt.subplot(2, 4, 3)\n",
        "plt.imshow(lab2rgb(Z1))\n",
        "plt.subplot(2, 4, 4)\n",
        "plt.imshow(lab2rgb(A1))\n",
        "#Как я поняла, дальше он сам решает, что ему дали только зеленый канал или только красный, оэтому получаются странные результаты\n",
        "plt.subplot(2, 4, 5)\n",
        "plt.imshow((X1))\n",
        "plt.subplot(2, 4, 6)\n",
        "plt.imshow((Y1))\n",
        "plt.subplot(2, 4, 7)\n",
        "plt.imshow((Z1))\n",
        "plt.subplot(2, 4, 8)\n",
        "plt.imshow((A1))"
      ],
      "execution_count": 5,
      "outputs": [
        {
          "output_type": "stream",
          "text": [
            "/usr/local/lib/python3.7/dist-packages/skimage/color/colorconv.py:1068: UserWarning: Color data out of range: Z < 0 in 2652 pixels\n",
            "  return xyz2rgb(lab2xyz(lab, illuminant, observer))\n",
            "Clipping input data to the valid range for imshow with RGB data ([0..1] for floats or [0..255] for integers).\n",
            "Clipping input data to the valid range for imshow with RGB data ([0..1] for floats or [0..255] for integers).\n",
            "Clipping input data to the valid range for imshow with RGB data ([0..1] for floats or [0..255] for integers).\n"
          ],
          "name": "stderr"
        },
        {
          "output_type": "stream",
          "text": [
            "(128, 128) ,  (128, 128) ,  (128, 128)\n",
            "(128, 128, 3)\n"
          ],
          "name": "stdout"
        },
        {
          "output_type": "stream",
          "text": [
            "Clipping input data to the valid range for imshow with RGB data ([0..1] for floats or [0..255] for integers).\n"
          ],
          "name": "stderr"
        },
        {
          "output_type": "execute_result",
          "data": {
            "text/plain": [
              "<matplotlib.image.AxesImage at 0x7f263070ab10>"
            ]
          },
          "metadata": {
            "tags": []
          },
          "execution_count": 5
        },
        {
          "output_type": "display_data",
          "data": {
            "image/png": "[encoded data removed]",
            "text/plain": [
              "<Figure size 432x288 with 8 Axes>"
            ]
          },
          "metadata": {
            "tags": [],
            "needs_background": "light"
          }
        }
      ]
    },
    {
      "cell_type": "code",
      "metadata": {
        "id": "R1MCz1kpB3ea"
      },
      "source": [
        "x_train, y_train = pr_img()             "
      ],
      "execution_count": 6,
      "outputs": []
    },
    {
      "cell_type": "code",
      "metadata": {
        "id": "7K1U73jGz5_-"
      },
      "source": [
        "model = Sequential()                                                      # Последовательная\n",
        "model.add(InputLayer(input_shape=(None, None, 1)))                        # Входной слой, подаем на вход яркостную компоненту\n",
        "model.add(Conv2D(64, (3, 3), activation='relu', padding='same'))          # Свертка, 64 фильтра\n",
        "model.add(Conv2D(64, (3, 3), activation='relu', padding='same'))\n",
        "model.add(MaxPool2D(pool_size=(2, 2)))\n",
        "model.add(Conv2D(128, (3, 3), activation='relu', padding='same'))\n",
        "model.add(Conv2D(128, (3, 3), activation='relu', padding='same'))\n",
        "model.add(MaxPool2D(pool_size=(2, 2)))\n",
        "model.add(Conv2D(256, (3, 3), activation='relu', padding='same'))\n",
        "model.add(UpSampling2D((2, 2))) #Растягивает картинку\n",
        "model.add(Conv2D(128, (3, 3), activation='relu', padding='same'))\n",
        "model.add(UpSampling2D((2, 2)))\n",
        "model.add(Conv2D(64, (3, 3), activation='relu', padding='same'))\n",
        "model.add(Conv2D(32, (3, 3), activation='relu', padding='same'))\n",
        "model.add(Conv2D(2, (3, 3), activation='tanh', padding='same'))"
      ],
      "execution_count": 7,
      "outputs": []
    },
    {
      "cell_type": "code",
      "metadata": {
        "id": "UPRjNZ4WHBny"
      },
      "source": [
        "model2 = Sequential()     #из статьи сравниваю\n",
        "model2.add(InputLayer(input_shape=(None, None, 1)))\n",
        "model2.add(Conv2D(64, (3, 3), activation='relu', padding='same'))\n",
        "model2.add(Conv2D(64, (3, 3), activation='relu', padding='same', strides=2))\n",
        "model2.add(Conv2D(128, (3, 3), activation='relu', padding='same'))\n",
        "model2.add(Conv2D(128, (3, 3), activation='relu', padding='same', strides=2))\n",
        "model2.add(Conv2D(256, (3, 3), activation='relu', padding='same'))\n",
        "model2.add(Conv2D(256, (3, 3), activation='relu', padding='same', strides=2))\n",
        "model2.add(Conv2D(512, (3, 3), activation='relu', padding='same'))\n",
        "model2.add(Conv2D(256, (3, 3), activation='relu', padding='same'))\n",
        "model2.add(Conv2D(128, (3, 3), activation='relu', padding='same'))\n",
        "model2.add(UpSampling2D((2, 2)))\n",
        "model2.add(Conv2D(64, (3, 3), activation='relu', padding='same'))\n",
        "model2.add(UpSampling2D((2, 2)))\n",
        "model2.add(Conv2D(32, (3, 3), activation='relu', padding='same'))\n",
        "model2.add(Conv2D(2, (3, 3), activation='tanh', padding='same'))\n",
        "model2.add(UpSampling2D((2, 2)))\n",
        "\n",
        "model2.compile(optimizer='adam', loss='mse')"
      ],
      "execution_count": 8,
      "outputs": []
    },
    {
      "cell_type": "code",
      "metadata": {
        "id": "WrWa-RUEIXN1",
        "colab": {
          "base_uri": "https://localhost:8080/"
        },
        "outputId": "24ba5b09-9381-47d3-d65c-9d6113bfab70"
      },
      "source": [
        "model2.fit(x=x_train, y=y_train, batch_size=10, epochs=100)"
      ],
      "execution_count": 9,
      "outputs": [
        {
          "output_type": "stream",
          "text": [
            "Epoch 1/100\n",
            "1/1 [==============================] - 19s 19s/step - loss: 0.1390\n",
            "Epoch 2/100\n",
            "1/1 [==============================] - 0s 30ms/step - loss: 0.7653\n",
            "Epoch 3/100\n",
            "1/1 [==============================] - 0s 31ms/step - loss: 0.2456\n",
            "Epoch 4/100\n",
            "1/1 [==============================] - 0s 34ms/step - loss: 0.0350\n",
            "Epoch 5/100\n",
            "1/1 [==============================] - 0s 34ms/step - loss: 0.0344\n",
            "Epoch 6/100\n",
            "1/1 [==============================] - 0s 34ms/step - loss: 0.0339\n",
            "Epoch 7/100\n",
            "1/1 [==============================] - 0s 34ms/step - loss: 0.0373\n",
            "Epoch 8/100\n",
            "1/1 [==============================] - 0s 31ms/step - loss: 0.0337\n",
            "Epoch 9/100\n",
            "1/1 [==============================] - 0s 31ms/step - loss: 0.0338\n",
            "Epoch 10/100\n",
            "1/1 [==============================] - 0s 36ms/step - loss: 0.0342\n",
            "Epoch 11/100\n",
            "1/1 [==============================] - 0s 32ms/step - loss: 0.0336\n",
            "Epoch 12/100\n",
            "1/1 [==============================] - 0s 35ms/step - loss: 0.0337\n",
            "Epoch 13/100\n",
            "1/1 [==============================] - 0s 35ms/step - loss: 0.0333\n",
            "Epoch 14/100\n",
            "1/1 [==============================] - 0s 32ms/step - loss: 0.0334\n",
            "Epoch 15/100\n",
            "1/1 [==============================] - 0s 31ms/step - loss: 0.0331\n",
            "Epoch 16/100\n",
            "1/1 [==============================] - 0s 31ms/step - loss: 0.0330\n",
            "Epoch 17/100\n",
            "1/1 [==============================] - 0s 32ms/step - loss: 0.0328\n",
            "Epoch 18/100\n",
            "1/1 [==============================] - 0s 32ms/step - loss: 0.0327\n",
            "Epoch 19/100\n",
            "1/1 [==============================] - 0s 31ms/step - loss: 0.0324\n",
            "Epoch 20/100\n",
            "1/1 [==============================] - 0s 34ms/step - loss: 0.0321\n",
            "Epoch 21/100\n",
            "1/1 [==============================] - 0s 31ms/step - loss: 0.0319\n",
            "Epoch 22/100\n",
            "1/1 [==============================] - 0s 34ms/step - loss: 0.0317\n",
            "Epoch 23/100\n",
            "1/1 [==============================] - 0s 33ms/step - loss: 0.0329\n",
            "Epoch 24/100\n",
            "1/1 [==============================] - 0s 33ms/step - loss: 0.0323\n",
            "Epoch 25/100\n",
            "1/1 [==============================] - 0s 31ms/step - loss: 0.0307\n",
            "Epoch 26/100\n",
            "1/1 [==============================] - 0s 32ms/step - loss: 0.0319\n",
            "Epoch 27/100\n",
            "1/1 [==============================] - 0s 32ms/step - loss: 0.0301\n",
            "Epoch 28/100\n",
            "1/1 [==============================] - 0s 31ms/step - loss: 0.0302\n",
            "Epoch 29/100\n",
            "1/1 [==============================] - 0s 31ms/step - loss: 0.0305\n",
            "Epoch 30/100\n",
            "1/1 [==============================] - 0s 30ms/step - loss: 0.0286\n",
            "Epoch 31/100\n",
            "1/1 [==============================] - 0s 30ms/step - loss: 0.0289\n",
            "Epoch 32/100\n",
            "1/1 [==============================] - 0s 33ms/step - loss: 0.0296\n",
            "Epoch 33/100\n",
            "1/1 [==============================] - 0s 34ms/step - loss: 0.0293\n",
            "Epoch 34/100\n",
            "1/1 [==============================] - 0s 32ms/step - loss: 0.0270\n",
            "Epoch 35/100\n",
            "1/1 [==============================] - 0s 31ms/step - loss: 0.0290\n",
            "Epoch 36/100\n",
            "1/1 [==============================] - 0s 32ms/step - loss: 0.0441\n",
            "Epoch 37/100\n",
            "1/1 [==============================] - 0s 33ms/step - loss: 0.0304\n",
            "Epoch 38/100\n",
            "1/1 [==============================] - 0s 33ms/step - loss: 0.0298\n",
            "Epoch 39/100\n",
            "1/1 [==============================] - 0s 33ms/step - loss: 0.0290\n",
            "Epoch 40/100\n",
            "1/1 [==============================] - 0s 32ms/step - loss: 0.0301\n",
            "Epoch 41/100\n",
            "1/1 [==============================] - 0s 33ms/step - loss: 0.0293\n",
            "Epoch 42/100\n",
            "1/1 [==============================] - 0s 32ms/step - loss: 0.0287\n",
            "Epoch 43/100\n",
            "1/1 [==============================] - 0s 30ms/step - loss: 0.0288\n",
            "Epoch 44/100\n",
            "1/1 [==============================] - 0s 31ms/step - loss: 0.0286\n",
            "Epoch 45/100\n",
            "1/1 [==============================] - 0s 32ms/step - loss: 0.0280\n",
            "Epoch 46/100\n",
            "1/1 [==============================] - 0s 34ms/step - loss: 0.0294\n",
            "Epoch 47/100\n",
            "1/1 [==============================] - 0s 32ms/step - loss: 0.0340\n",
            "Epoch 48/100\n",
            "1/1 [==============================] - 0s 32ms/step - loss: 0.0287\n",
            "Epoch 49/100\n",
            "1/1 [==============================] - 0s 33ms/step - loss: 0.0320\n",
            "Epoch 50/100\n",
            "1/1 [==============================] - 0s 33ms/step - loss: 0.0303\n",
            "Epoch 51/100\n",
            "1/1 [==============================] - 0s 32ms/step - loss: 0.0280\n",
            "Epoch 52/100\n",
            "1/1 [==============================] - 0s 32ms/step - loss: 0.0272\n",
            "Epoch 53/100\n",
            "1/1 [==============================] - 0s 30ms/step - loss: 0.0281\n",
            "Epoch 54/100\n",
            "1/1 [==============================] - 0s 32ms/step - loss: 0.0277\n",
            "Epoch 55/100\n",
            "1/1 [==============================] - 0s 32ms/step - loss: 0.0267\n",
            "Epoch 56/100\n",
            "1/1 [==============================] - 0s 31ms/step - loss: 0.0270\n",
            "Epoch 57/100\n",
            "1/1 [==============================] - 0s 31ms/step - loss: 0.0267\n",
            "Epoch 58/100\n",
            "1/1 [==============================] - 0s 33ms/step - loss: 0.0257\n",
            "Epoch 59/100\n",
            "1/1 [==============================] - 0s 35ms/step - loss: 0.0256\n",
            "Epoch 60/100\n",
            "1/1 [==============================] - 0s 33ms/step - loss: 0.0253\n",
            "Epoch 61/100\n",
            "1/1 [==============================] - 0s 30ms/step - loss: 0.0249\n",
            "Epoch 62/100\n",
            "1/1 [==============================] - 0s 31ms/step - loss: 0.0249\n",
            "Epoch 63/100\n",
            "1/1 [==============================] - 0s 33ms/step - loss: 0.0246\n",
            "Epoch 64/100\n",
            "1/1 [==============================] - 0s 32ms/step - loss: 0.0244\n",
            "Epoch 65/100\n",
            "1/1 [==============================] - 0s 31ms/step - loss: 0.0247\n",
            "Epoch 66/100\n",
            "1/1 [==============================] - 0s 30ms/step - loss: 0.0250\n",
            "Epoch 67/100\n",
            "1/1 [==============================] - 0s 31ms/step - loss: 0.0242\n",
            "Epoch 68/100\n",
            "1/1 [==============================] - 0s 33ms/step - loss: 0.0241\n",
            "Epoch 69/100\n",
            "1/1 [==============================] - 0s 33ms/step - loss: 0.0233\n",
            "Epoch 70/100\n",
            "1/1 [==============================] - 0s 32ms/step - loss: 0.0234\n",
            "Epoch 71/100\n",
            "1/1 [==============================] - 0s 30ms/step - loss: 0.0229\n",
            "Epoch 72/100\n",
            "1/1 [==============================] - 0s 31ms/step - loss: 0.0227\n",
            "Epoch 73/100\n",
            "1/1 [==============================] - 0s 32ms/step - loss: 0.0226\n",
            "Epoch 74/100\n",
            "1/1 [==============================] - 0s 32ms/step - loss: 0.0221\n",
            "Epoch 75/100\n",
            "1/1 [==============================] - 0s 31ms/step - loss: 0.0220\n",
            "Epoch 76/100\n",
            "1/1 [==============================] - 0s 31ms/step - loss: 0.0215\n",
            "Epoch 77/100\n",
            "1/1 [==============================] - 0s 30ms/step - loss: 0.0213\n",
            "Epoch 78/100\n",
            "1/1 [==============================] - 0s 31ms/step - loss: 0.0210\n",
            "Epoch 79/100\n",
            "1/1 [==============================] - 0s 33ms/step - loss: 0.0205\n",
            "Epoch 80/100\n",
            "1/1 [==============================] - 0s 32ms/step - loss: 0.0201\n",
            "Epoch 81/100\n",
            "1/1 [==============================] - 0s 31ms/step - loss: 0.0198\n",
            "Epoch 82/100\n",
            "1/1 [==============================] - 0s 30ms/step - loss: 0.0193\n",
            "Epoch 83/100\n",
            "1/1 [==============================] - 0s 30ms/step - loss: 0.0192\n",
            "Epoch 84/100\n",
            "1/1 [==============================] - 0s 31ms/step - loss: 0.0199\n",
            "Epoch 85/100\n",
            "1/1 [==============================] - 0s 31ms/step - loss: 0.0220\n",
            "Epoch 86/100\n",
            "1/1 [==============================] - 0s 33ms/step - loss: 0.0199\n",
            "Epoch 87/100\n",
            "1/1 [==============================] - 0s 32ms/step - loss: 0.0196\n",
            "Epoch 88/100\n",
            "1/1 [==============================] - 0s 36ms/step - loss: 0.0194\n",
            "Epoch 89/100\n",
            "1/1 [==============================] - 0s 32ms/step - loss: 0.0193\n",
            "Epoch 90/100\n",
            "1/1 [==============================] - 0s 31ms/step - loss: 0.0179\n",
            "Epoch 91/100\n",
            "1/1 [==============================] - 0s 33ms/step - loss: 0.0188\n",
            "Epoch 92/100\n",
            "1/1 [==============================] - 0s 31ms/step - loss: 0.0176\n",
            "Epoch 93/100\n",
            "1/1 [==============================] - 0s 33ms/step - loss: 0.0176\n",
            "Epoch 94/100\n",
            "1/1 [==============================] - 0s 31ms/step - loss: 0.0167\n",
            "Epoch 95/100\n",
            "1/1 [==============================] - 0s 30ms/step - loss: 0.0167\n",
            "Epoch 96/100\n",
            "1/1 [==============================] - 0s 34ms/step - loss: 0.0163\n",
            "Epoch 97/100\n",
            "1/1 [==============================] - 0s 35ms/step - loss: 0.0157\n",
            "Epoch 98/100\n",
            "1/1 [==============================] - 0s 32ms/step - loss: 0.0155\n",
            "Epoch 99/100\n",
            "1/1 [==============================] - 0s 31ms/step - loss: 0.0153\n",
            "Epoch 100/100\n",
            "1/1 [==============================] - 0s 31ms/step - loss: 0.0148\n"
          ],
          "name": "stdout"
        },
        {
          "output_type": "execute_result",
          "data": {
            "text/plain": [
              "<tensorflow.python.keras.callbacks.History at 0x7f263009e050>"
            ]
          },
          "metadata": {
            "tags": []
          },
          "execution_count": 9
        }
      ]
    },
    {
      "cell_type": "code",
      "metadata": {
        "id": "h6guWHfNYOVU"
      },
      "source": [
        "model.compile(optimizer='adam', loss='mse')"
      ],
      "execution_count": 10,
      "outputs": []
    },
    {
      "cell_type": "code",
      "metadata": {
        "id": "z_gakBmac8bM",
        "colab": {
          "base_uri": "https://localhost:8080/"
        },
        "outputId": "b1c09193-43e3-4ee7-879d-e3c244280d45"
      },
      "source": [
        "model.fit(x=x_train, y=y_train, batch_size=10, epochs=100)"
      ],
      "execution_count": 11,
      "outputs": [
        {
          "output_type": "stream",
          "text": [
            "Epoch 1/100\n",
            "1/1 [==============================] - 3s 3s/step - loss: 0.6156\n",
            "Epoch 2/100\n",
            "1/1 [==============================] - 0s 55ms/step - loss: 1.0467\n",
            "Epoch 3/100\n",
            "1/1 [==============================] - 0s 58ms/step - loss: 0.7742\n",
            "Epoch 4/100\n",
            "1/1 [==============================] - 0s 58ms/step - loss: 1.0617\n",
            "Epoch 5/100\n",
            "1/1 [==============================] - 0s 57ms/step - loss: 1.0617\n",
            "Epoch 6/100\n",
            "1/1 [==============================] - 0s 58ms/step - loss: 1.0618\n",
            "Epoch 7/100\n",
            "1/1 [==============================] - 0s 57ms/step - loss: 1.0620\n",
            "Epoch 8/100\n",
            "1/1 [==============================] - 0s 58ms/step - loss: 1.0608\n",
            "Epoch 9/100\n",
            "1/1 [==============================] - 0s 57ms/step - loss: 1.0612\n",
            "Epoch 10/100\n",
            "1/1 [==============================] - 0s 56ms/step - loss: 1.0631\n",
            "Epoch 11/100\n",
            "1/1 [==============================] - 0s 58ms/step - loss: 1.0631\n",
            "Epoch 12/100\n",
            "1/1 [==============================] - 0s 56ms/step - loss: 1.0616\n",
            "Epoch 13/100\n",
            "1/1 [==============================] - 0s 56ms/step - loss: 1.0628\n",
            "Epoch 14/100\n",
            "1/1 [==============================] - 0s 57ms/step - loss: 1.0611\n",
            "Epoch 15/100\n",
            "1/1 [==============================] - 0s 58ms/step - loss: 1.0639\n",
            "Epoch 16/100\n",
            "1/1 [==============================] - 0s 56ms/step - loss: 1.0642\n",
            "Epoch 17/100\n",
            "1/1 [==============================] - 0s 57ms/step - loss: 1.0643\n",
            "Epoch 18/100\n",
            "1/1 [==============================] - 0s 56ms/step - loss: 1.0643\n",
            "Epoch 19/100\n",
            "1/1 [==============================] - 0s 56ms/step - loss: 1.0643\n",
            "Epoch 20/100\n",
            "1/1 [==============================] - 0s 55ms/step - loss: 1.0643\n",
            "Epoch 21/100\n",
            "1/1 [==============================] - 0s 56ms/step - loss: 1.0643\n",
            "Epoch 22/100\n",
            "1/1 [==============================] - 0s 57ms/step - loss: 1.0643\n",
            "Epoch 23/100\n",
            "1/1 [==============================] - 0s 57ms/step - loss: 1.0643\n",
            "Epoch 24/100\n",
            "1/1 [==============================] - 0s 57ms/step - loss: 1.0643\n",
            "Epoch 25/100\n",
            "1/1 [==============================] - 0s 56ms/step - loss: 1.0643\n",
            "Epoch 26/100\n",
            "1/1 [==============================] - 0s 57ms/step - loss: 1.0643\n",
            "Epoch 27/100\n",
            "1/1 [==============================] - 0s 57ms/step - loss: 1.0643\n",
            "Epoch 28/100\n",
            "1/1 [==============================] - 0s 57ms/step - loss: 1.0643\n",
            "Epoch 29/100\n",
            "1/1 [==============================] - 0s 57ms/step - loss: 1.0643\n",
            "Epoch 30/100\n",
            "1/1 [==============================] - 0s 58ms/step - loss: 1.0643\n",
            "Epoch 31/100\n",
            "1/1 [==============================] - 0s 57ms/step - loss: 1.0643\n",
            "Epoch 32/100\n",
            "1/1 [==============================] - 0s 57ms/step - loss: 1.0643\n",
            "Epoch 33/100\n",
            "1/1 [==============================] - 0s 57ms/step - loss: 1.0643\n",
            "Epoch 34/100\n",
            "1/1 [==============================] - 0s 57ms/step - loss: 1.0643\n",
            "Epoch 35/100\n",
            "1/1 [==============================] - 0s 56ms/step - loss: 1.0643\n",
            "Epoch 36/100\n",
            "1/1 [==============================] - 0s 57ms/step - loss: 1.0643\n",
            "Epoch 37/100\n",
            "1/1 [==============================] - 0s 57ms/step - loss: 1.0642\n",
            "Epoch 38/100\n",
            "1/1 [==============================] - 0s 57ms/step - loss: 1.0642\n",
            "Epoch 39/100\n",
            "1/1 [==============================] - 0s 56ms/step - loss: 1.0642\n",
            "Epoch 40/100\n",
            "1/1 [==============================] - 0s 56ms/step - loss: 1.0642\n",
            "Epoch 41/100\n",
            "1/1 [==============================] - 0s 57ms/step - loss: 1.0641\n",
            "Epoch 42/100\n",
            "1/1 [==============================] - 0s 58ms/step - loss: 1.0634\n",
            "Epoch 43/100\n",
            "1/1 [==============================] - 0s 57ms/step - loss: 1.0618\n",
            "Epoch 44/100\n",
            "1/1 [==============================] - 0s 57ms/step - loss: 1.0582\n",
            "Epoch 45/100\n",
            "1/1 [==============================] - 0s 58ms/step - loss: 1.0160\n",
            "Epoch 46/100\n",
            "1/1 [==============================] - 0s 58ms/step - loss: 0.6574\n",
            "Epoch 47/100\n",
            "1/1 [==============================] - 0s 58ms/step - loss: 0.2158\n",
            "Epoch 48/100\n",
            "1/1 [==============================] - 0s 59ms/step - loss: 0.0431\n",
            "Epoch 49/100\n",
            "1/1 [==============================] - 0s 59ms/step - loss: 0.0388\n",
            "Epoch 50/100\n",
            "1/1 [==============================] - 0s 58ms/step - loss: 0.0376\n",
            "Epoch 51/100\n",
            "1/1 [==============================] - 0s 58ms/step - loss: 0.0344\n",
            "Epoch 52/100\n",
            "1/1 [==============================] - 0s 59ms/step - loss: 0.0367\n",
            "Epoch 53/100\n",
            "1/1 [==============================] - 0s 58ms/step - loss: 0.0459\n",
            "Epoch 54/100\n",
            "1/1 [==============================] - 0s 57ms/step - loss: 0.0349\n",
            "Epoch 55/100\n",
            "1/1 [==============================] - 0s 59ms/step - loss: 0.0354\n",
            "Epoch 56/100\n",
            "1/1 [==============================] - 0s 59ms/step - loss: 0.0338\n",
            "Epoch 57/100\n",
            "1/1 [==============================] - 0s 58ms/step - loss: 0.0346\n",
            "Epoch 58/100\n",
            "1/1 [==============================] - 0s 60ms/step - loss: 0.0337\n",
            "Epoch 59/100\n",
            "1/1 [==============================] - 0s 61ms/step - loss: 0.0339\n",
            "Epoch 60/100\n",
            "1/1 [==============================] - 0s 59ms/step - loss: 0.0335\n",
            "Epoch 61/100\n",
            "1/1 [==============================] - 0s 59ms/step - loss: 0.0331\n",
            "Epoch 62/100\n",
            "1/1 [==============================] - 0s 58ms/step - loss: 0.0330\n",
            "Epoch 63/100\n",
            "1/1 [==============================] - 0s 57ms/step - loss: 0.0331\n",
            "Epoch 64/100\n",
            "1/1 [==============================] - 0s 59ms/step - loss: 0.0329\n",
            "Epoch 65/100\n",
            "1/1 [==============================] - 0s 59ms/step - loss: 0.0325\n",
            "Epoch 66/100\n",
            "1/1 [==============================] - 0s 57ms/step - loss: 0.0325\n",
            "Epoch 67/100\n",
            "1/1 [==============================] - 0s 57ms/step - loss: 0.0319\n",
            "Epoch 68/100\n",
            "1/1 [==============================] - 0s 56ms/step - loss: 0.0317\n",
            "Epoch 69/100\n",
            "1/1 [==============================] - 0s 56ms/step - loss: 0.0323\n",
            "Epoch 70/100\n",
            "1/1 [==============================] - 0s 58ms/step - loss: 0.0375\n",
            "Epoch 71/100\n",
            "1/1 [==============================] - 0s 57ms/step - loss: 0.0367\n",
            "Epoch 72/100\n",
            "1/1 [==============================] - 0s 57ms/step - loss: 0.0346\n",
            "Epoch 73/100\n",
            "1/1 [==============================] - 0s 59ms/step - loss: 0.0333\n",
            "Epoch 74/100\n",
            "1/1 [==============================] - 0s 57ms/step - loss: 0.0353\n",
            "Epoch 75/100\n",
            "1/1 [==============================] - 0s 58ms/step - loss: 0.0340\n",
            "Epoch 76/100\n",
            "1/1 [==============================] - 0s 57ms/step - loss: 0.0328\n",
            "Epoch 77/100\n",
            "1/1 [==============================] - 0s 57ms/step - loss: 0.0334\n",
            "Epoch 78/100\n",
            "1/1 [==============================] - 0s 58ms/step - loss: 0.0331\n",
            "Epoch 79/100\n",
            "1/1 [==============================] - 0s 57ms/step - loss: 0.0325\n",
            "Epoch 80/100\n",
            "1/1 [==============================] - 0s 57ms/step - loss: 0.0324\n",
            "Epoch 81/100\n",
            "1/1 [==============================] - 0s 57ms/step - loss: 0.0319\n",
            "Epoch 82/100\n",
            "1/1 [==============================] - 0s 58ms/step - loss: 0.0316\n",
            "Epoch 83/100\n",
            "1/1 [==============================] - 0s 58ms/step - loss: 0.0313\n",
            "Epoch 84/100\n",
            "1/1 [==============================] - 0s 57ms/step - loss: 0.0311\n",
            "Epoch 85/100\n",
            "1/1 [==============================] - 0s 56ms/step - loss: 0.0307\n",
            "Epoch 86/100\n",
            "1/1 [==============================] - 0s 54ms/step - loss: 0.0305\n",
            "Epoch 87/100\n",
            "1/1 [==============================] - 0s 57ms/step - loss: 0.0310\n",
            "Epoch 88/100\n",
            "1/1 [==============================] - 0s 55ms/step - loss: 0.0310\n",
            "Epoch 89/100\n",
            "1/1 [==============================] - 0s 56ms/step - loss: 0.0298\n",
            "Epoch 90/100\n",
            "1/1 [==============================] - 0s 55ms/step - loss: 0.0316\n",
            "Epoch 91/100\n",
            "1/1 [==============================] - 0s 59ms/step - loss: 0.0302\n",
            "Epoch 92/100\n",
            "1/1 [==============================] - 0s 56ms/step - loss: 0.0302\n",
            "Epoch 93/100\n",
            "1/1 [==============================] - 0s 57ms/step - loss: 0.0290\n",
            "Epoch 94/100\n",
            "1/1 [==============================] - 0s 59ms/step - loss: 0.0304\n",
            "Epoch 95/100\n",
            "1/1 [==============================] - 0s 58ms/step - loss: 0.0288\n",
            "Epoch 96/100\n",
            "1/1 [==============================] - 0s 58ms/step - loss: 0.0296\n",
            "Epoch 97/100\n",
            "1/1 [==============================] - 0s 59ms/step - loss: 0.0289\n",
            "Epoch 98/100\n",
            "1/1 [==============================] - 0s 56ms/step - loss: 0.0290\n",
            "Epoch 99/100\n",
            "1/1 [==============================] - 0s 57ms/step - loss: 0.0283\n",
            "Epoch 100/100\n",
            "1/1 [==============================] - 0s 58ms/step - loss: 0.0278\n"
          ],
          "name": "stdout"
        },
        {
          "output_type": "execute_result",
          "data": {
            "text/plain": [
              "<tensorflow.python.keras.callbacks.History at 0x7f25edfd8e50>"
            ]
          },
          "metadata": {
            "tags": []
          },
          "execution_count": 11
        }
      ]
    },
    {
      "cell_type": "code",
      "metadata": {
        "id": "UeW2bVfacixe",
        "colab": {
          "base_uri": "https://localhost:8080/",
          "height": 221
        },
        "outputId": "2cfbe7ed-16d2-4432-ce13-f24959a79b77"
      },
      "source": [
        "img = Image.open('drive/MyDrive/Colorization/Step_2.Flowers/easy_geometry/12.jpg')\n",
        "X, Y, size = processed_image(img)\n",
        "\n",
        "output = model.predict(X)\n",
        "\n",
        "output *= 128\n",
        "min_vals, max_vals = -128, 127\n",
        "ab = np.clip(output[0], min_vals, max_vals)\n",
        "\n",
        "cur = np.zeros((size[0], size[1], 3))\n",
        "cur[:,:,0] = np.clip(X[0][:,:,0], 0, 100)\n",
        "cur[:,:,1:] = ab\n",
        "plt.subplot(1, 2, 1)\n",
        "plt.imshow(img)\n",
        "plt.subplot(1, 2, 2)\n",
        "plt.imshow(lab2rgb(cur))"
      ],
      "execution_count": 12,
      "outputs": [
        {
          "output_type": "execute_result",
          "data": {
            "text/plain": [
              "<matplotlib.image.AxesImage at 0x7f25eddd0210>"
            ]
          },
          "metadata": {
            "tags": []
          },
          "execution_count": 12
        },
        {
          "output_type": "display_data",
          "data": {
            "image/png": "[encoded data removed]",
            "text/plain": [
              "<Figure size 432x288 with 2 Axes>"
            ]
          },
          "metadata": {
            "tags": [],
            "needs_background": "light"
          }
        }
      ]
    }
  ]
}